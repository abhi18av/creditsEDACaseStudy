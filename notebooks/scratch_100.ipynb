{
  "cells": [
    {
      "cell_type": "code",
      "execution_count": 2,
      "metadata": {
        "collapsed": true,
        "pycharm": {
          "is_executing": false
        }
      },
      "outputs": [],
      "source": "import pandas as pd\nimport numpy as np\nimport seaborn as sb\nimport os\nimport chardet\n\n"
    },
    {
      "cell_type": "markdown",
      "source": "\n# `columns_description` contains an explanation of all the variables in the analysis\n",
      "metadata": {
        "pycharm": {
          "metadata": false,
          "name": "#%% md\n"
        }
      }
    },
    {
      "cell_type": "code",
      "execution_count": 2,
      "outputs": [
        {
          "data": {
            "text/plain": "   Unnamed: 0             Table                 Row  \\\n0           1  application_data          SK_ID_CURR   \n1           2  application_data              TARGET   \n2           5  application_data  NAME_CONTRACT_TYPE   \n3           6  application_data         CODE_GENDER   \n4           7  application_data        FLAG_OWN_CAR   \n\n                                         Description Special  \n0                           ID of loan in our sample     NaN  \n1  Target variable (1 - client with payment diffi...     NaN  \n2        Identification if loan is cash or revolving     NaN  \n3                               Gender of the client     NaN  \n4                      Flag if the client owns a car     NaN  ",
            "text/html": "\u003cdiv\u003e\n\u003cstyle scoped\u003e\n    .dataframe tbody tr th:only-of-type {\n        vertical-align: middle;\n    }\n\n    .dataframe tbody tr th {\n        vertical-align: top;\n    }\n\n    .dataframe thead th {\n        text-align: right;\n    }\n\u003c/style\u003e\n\u003ctable border\u003d\"1\" class\u003d\"dataframe\"\u003e\n  \u003cthead\u003e\n    \u003ctr style\u003d\"text-align: right;\"\u003e\n      \u003cth\u003e\u003c/th\u003e\n      \u003cth\u003eUnnamed: 0\u003c/th\u003e\n      \u003cth\u003eTable\u003c/th\u003e\n      \u003cth\u003eRow\u003c/th\u003e\n      \u003cth\u003eDescription\u003c/th\u003e\n      \u003cth\u003eSpecial\u003c/th\u003e\n    \u003c/tr\u003e\n  \u003c/thead\u003e\n  \u003ctbody\u003e\n    \u003ctr\u003e\n      \u003cth\u003e0\u003c/th\u003e\n      \u003ctd\u003e1\u003c/td\u003e\n      \u003ctd\u003eapplication_data\u003c/td\u003e\n      \u003ctd\u003eSK_ID_CURR\u003c/td\u003e\n      \u003ctd\u003eID of loan in our sample\u003c/td\u003e\n      \u003ctd\u003eNaN\u003c/td\u003e\n    \u003c/tr\u003e\n    \u003ctr\u003e\n      \u003cth\u003e1\u003c/th\u003e\n      \u003ctd\u003e2\u003c/td\u003e\n      \u003ctd\u003eapplication_data\u003c/td\u003e\n      \u003ctd\u003eTARGET\u003c/td\u003e\n      \u003ctd\u003eTarget variable (1 - client with payment diffi...\u003c/td\u003e\n      \u003ctd\u003eNaN\u003c/td\u003e\n    \u003c/tr\u003e\n    \u003ctr\u003e\n      \u003cth\u003e2\u003c/th\u003e\n      \u003ctd\u003e5\u003c/td\u003e\n      \u003ctd\u003eapplication_data\u003c/td\u003e\n      \u003ctd\u003eNAME_CONTRACT_TYPE\u003c/td\u003e\n      \u003ctd\u003eIdentification if loan is cash or revolving\u003c/td\u003e\n      \u003ctd\u003eNaN\u003c/td\u003e\n    \u003c/tr\u003e\n    \u003ctr\u003e\n      \u003cth\u003e3\u003c/th\u003e\n      \u003ctd\u003e6\u003c/td\u003e\n      \u003ctd\u003eapplication_data\u003c/td\u003e\n      \u003ctd\u003eCODE_GENDER\u003c/td\u003e\n      \u003ctd\u003eGender of the client\u003c/td\u003e\n      \u003ctd\u003eNaN\u003c/td\u003e\n    \u003c/tr\u003e\n    \u003ctr\u003e\n      \u003cth\u003e4\u003c/th\u003e\n      \u003ctd\u003e7\u003c/td\u003e\n      \u003ctd\u003eapplication_data\u003c/td\u003e\n      \u003ctd\u003eFLAG_OWN_CAR\u003c/td\u003e\n      \u003ctd\u003eFlag if the client owns a car\u003c/td\u003e\n      \u003ctd\u003eNaN\u003c/td\u003e\n    \u003c/tr\u003e\n  \u003c/tbody\u003e\n\u003c/table\u003e\n\u003c/div\u003e"
          },
          "metadata": {},
          "output_type": "execute_result",
          "execution_count": 2
        }
      ],
      "source": "# used the chardet and it\u0027s cli tool chardetect to check the characterset of the file\n# chardetect columns_description.csv\n\ncolumns_description \u003d pd.read_csv(\"../data/mock/columns_description.csv\", encoding\u003d\"Windows-1252\")\n\ncolumns_description.head()\n",
      "metadata": {
        "pycharm": {
          "metadata": false,
          "name": "#%%\n",
          "is_executing": false
        }
      }
    },
    {
      "cell_type": "markdown",
      "source": "# Starting the analysis based on the `application_data` dataset\n\n",
      "metadata": {
        "pycharm": {
          "metadata": false,
          "name": "#%% md\n"
        }
      }
    },
    {
      "cell_type": "code",
      "execution_count": 3,
      "outputs": [
        {
          "data": {
            "text/plain": "   SK_ID_CURR  TARGET NAME_CONTRACT_TYPE CODE_GENDER FLAG_OWN_CAR  \\\n0      100002       1         Cash loans           M            N   \n1      100003       0         Cash loans           F            N   \n2      100004       0    Revolving loans           M            Y   \n3      100006       0         Cash loans           F            N   \n4      100007       0         Cash loans           M            N   \n\n  FLAG_OWN_REALTY  CNT_CHILDREN  AMT_INCOME_TOTAL  AMT_CREDIT  AMT_ANNUITY  \\\n0               Y             0          202500.0    406597.5      24700.5   \n1               N             0          270000.0   1293502.5      35698.5   \n2               Y             0           67500.0    135000.0       6750.0   \n3               Y             0          135000.0    312682.5      29686.5   \n4               Y             0          121500.0    513000.0      21865.5   \n\n   ...  FLAG_DOCUMENT_18 FLAG_DOCUMENT_19 FLAG_DOCUMENT_20 FLAG_DOCUMENT_21  \\\n0  ...                 0                0                0                0   \n1  ...                 0                0                0                0   \n2  ...                 0                0                0                0   \n3  ...                 0                0                0                0   \n4  ...                 0                0                0                0   \n\n  AMT_REQ_CREDIT_BUREAU_HOUR AMT_REQ_CREDIT_BUREAU_DAY  \\\n0                        0.0                       0.0   \n1                        0.0                       0.0   \n2                        0.0                       0.0   \n3                        NaN                       NaN   \n4                        0.0                       0.0   \n\n   AMT_REQ_CREDIT_BUREAU_WEEK  AMT_REQ_CREDIT_BUREAU_MON  \\\n0                         0.0                        0.0   \n1                         0.0                        0.0   \n2                         0.0                        0.0   \n3                         NaN                        NaN   \n4                         0.0                        0.0   \n\n   AMT_REQ_CREDIT_BUREAU_QRT  AMT_REQ_CREDIT_BUREAU_YEAR  \n0                        0.0                         1.0  \n1                        0.0                         0.0  \n2                        0.0                         0.0  \n3                        NaN                         NaN  \n4                        0.0                         0.0  \n\n[5 rows x 122 columns]",
            "text/html": "\u003cdiv\u003e\n\u003cstyle scoped\u003e\n    .dataframe tbody tr th:only-of-type {\n        vertical-align: middle;\n    }\n\n    .dataframe tbody tr th {\n        vertical-align: top;\n    }\n\n    .dataframe thead th {\n        text-align: right;\n    }\n\u003c/style\u003e\n\u003ctable border\u003d\"1\" class\u003d\"dataframe\"\u003e\n  \u003cthead\u003e\n    \u003ctr style\u003d\"text-align: right;\"\u003e\n      \u003cth\u003e\u003c/th\u003e\n      \u003cth\u003eSK_ID_CURR\u003c/th\u003e\n      \u003cth\u003eTARGET\u003c/th\u003e\n      \u003cth\u003eNAME_CONTRACT_TYPE\u003c/th\u003e\n      \u003cth\u003eCODE_GENDER\u003c/th\u003e\n      \u003cth\u003eFLAG_OWN_CAR\u003c/th\u003e\n      \u003cth\u003eFLAG_OWN_REALTY\u003c/th\u003e\n      \u003cth\u003eCNT_CHILDREN\u003c/th\u003e\n      \u003cth\u003eAMT_INCOME_TOTAL\u003c/th\u003e\n      \u003cth\u003eAMT_CREDIT\u003c/th\u003e\n      \u003cth\u003eAMT_ANNUITY\u003c/th\u003e\n      \u003cth\u003e...\u003c/th\u003e\n      \u003cth\u003eFLAG_DOCUMENT_18\u003c/th\u003e\n      \u003cth\u003eFLAG_DOCUMENT_19\u003c/th\u003e\n      \u003cth\u003eFLAG_DOCUMENT_20\u003c/th\u003e\n      \u003cth\u003eFLAG_DOCUMENT_21\u003c/th\u003e\n      \u003cth\u003eAMT_REQ_CREDIT_BUREAU_HOUR\u003c/th\u003e\n      \u003cth\u003eAMT_REQ_CREDIT_BUREAU_DAY\u003c/th\u003e\n      \u003cth\u003eAMT_REQ_CREDIT_BUREAU_WEEK\u003c/th\u003e\n      \u003cth\u003eAMT_REQ_CREDIT_BUREAU_MON\u003c/th\u003e\n      \u003cth\u003eAMT_REQ_CREDIT_BUREAU_QRT\u003c/th\u003e\n      \u003cth\u003eAMT_REQ_CREDIT_BUREAU_YEAR\u003c/th\u003e\n    \u003c/tr\u003e\n  \u003c/thead\u003e\n  \u003ctbody\u003e\n    \u003ctr\u003e\n      \u003cth\u003e0\u003c/th\u003e\n      \u003ctd\u003e100002\u003c/td\u003e\n      \u003ctd\u003e1\u003c/td\u003e\n      \u003ctd\u003eCash loans\u003c/td\u003e\n      \u003ctd\u003eM\u003c/td\u003e\n      \u003ctd\u003eN\u003c/td\u003e\n      \u003ctd\u003eY\u003c/td\u003e\n      \u003ctd\u003e0\u003c/td\u003e\n      \u003ctd\u003e202500.0\u003c/td\u003e\n      \u003ctd\u003e406597.5\u003c/td\u003e\n      \u003ctd\u003e24700.5\u003c/td\u003e\n      \u003ctd\u003e...\u003c/td\u003e\n      \u003ctd\u003e0\u003c/td\u003e\n      \u003ctd\u003e0\u003c/td\u003e\n      \u003ctd\u003e0\u003c/td\u003e\n      \u003ctd\u003e0\u003c/td\u003e\n      \u003ctd\u003e0.0\u003c/td\u003e\n      \u003ctd\u003e0.0\u003c/td\u003e\n      \u003ctd\u003e0.0\u003c/td\u003e\n      \u003ctd\u003e0.0\u003c/td\u003e\n      \u003ctd\u003e0.0\u003c/td\u003e\n      \u003ctd\u003e1.0\u003c/td\u003e\n    \u003c/tr\u003e\n    \u003ctr\u003e\n      \u003cth\u003e1\u003c/th\u003e\n      \u003ctd\u003e100003\u003c/td\u003e\n      \u003ctd\u003e0\u003c/td\u003e\n      \u003ctd\u003eCash loans\u003c/td\u003e\n      \u003ctd\u003eF\u003c/td\u003e\n      \u003ctd\u003eN\u003c/td\u003e\n      \u003ctd\u003eN\u003c/td\u003e\n      \u003ctd\u003e0\u003c/td\u003e\n      \u003ctd\u003e270000.0\u003c/td\u003e\n      \u003ctd\u003e1293502.5\u003c/td\u003e\n      \u003ctd\u003e35698.5\u003c/td\u003e\n      \u003ctd\u003e...\u003c/td\u003e\n      \u003ctd\u003e0\u003c/td\u003e\n      \u003ctd\u003e0\u003c/td\u003e\n      \u003ctd\u003e0\u003c/td\u003e\n      \u003ctd\u003e0\u003c/td\u003e\n      \u003ctd\u003e0.0\u003c/td\u003e\n      \u003ctd\u003e0.0\u003c/td\u003e\n      \u003ctd\u003e0.0\u003c/td\u003e\n      \u003ctd\u003e0.0\u003c/td\u003e\n      \u003ctd\u003e0.0\u003c/td\u003e\n      \u003ctd\u003e0.0\u003c/td\u003e\n    \u003c/tr\u003e\n    \u003ctr\u003e\n      \u003cth\u003e2\u003c/th\u003e\n      \u003ctd\u003e100004\u003c/td\u003e\n      \u003ctd\u003e0\u003c/td\u003e\n      \u003ctd\u003eRevolving loans\u003c/td\u003e\n      \u003ctd\u003eM\u003c/td\u003e\n      \u003ctd\u003eY\u003c/td\u003e\n      \u003ctd\u003eY\u003c/td\u003e\n      \u003ctd\u003e0\u003c/td\u003e\n      \u003ctd\u003e67500.0\u003c/td\u003e\n      \u003ctd\u003e135000.0\u003c/td\u003e\n      \u003ctd\u003e6750.0\u003c/td\u003e\n      \u003ctd\u003e...\u003c/td\u003e\n      \u003ctd\u003e0\u003c/td\u003e\n      \u003ctd\u003e0\u003c/td\u003e\n      \u003ctd\u003e0\u003c/td\u003e\n      \u003ctd\u003e0\u003c/td\u003e\n      \u003ctd\u003e0.0\u003c/td\u003e\n      \u003ctd\u003e0.0\u003c/td\u003e\n      \u003ctd\u003e0.0\u003c/td\u003e\n      \u003ctd\u003e0.0\u003c/td\u003e\n      \u003ctd\u003e0.0\u003c/td\u003e\n      \u003ctd\u003e0.0\u003c/td\u003e\n    \u003c/tr\u003e\n    \u003ctr\u003e\n      \u003cth\u003e3\u003c/th\u003e\n      \u003ctd\u003e100006\u003c/td\u003e\n      \u003ctd\u003e0\u003c/td\u003e\n      \u003ctd\u003eCash loans\u003c/td\u003e\n      \u003ctd\u003eF\u003c/td\u003e\n      \u003ctd\u003eN\u003c/td\u003e\n      \u003ctd\u003eY\u003c/td\u003e\n      \u003ctd\u003e0\u003c/td\u003e\n      \u003ctd\u003e135000.0\u003c/td\u003e\n      \u003ctd\u003e312682.5\u003c/td\u003e\n      \u003ctd\u003e29686.5\u003c/td\u003e\n      \u003ctd\u003e...\u003c/td\u003e\n      \u003ctd\u003e0\u003c/td\u003e\n      \u003ctd\u003e0\u003c/td\u003e\n      \u003ctd\u003e0\u003c/td\u003e\n      \u003ctd\u003e0\u003c/td\u003e\n      \u003ctd\u003eNaN\u003c/td\u003e\n      \u003ctd\u003eNaN\u003c/td\u003e\n      \u003ctd\u003eNaN\u003c/td\u003e\n      \u003ctd\u003eNaN\u003c/td\u003e\n      \u003ctd\u003eNaN\u003c/td\u003e\n      \u003ctd\u003eNaN\u003c/td\u003e\n    \u003c/tr\u003e\n    \u003ctr\u003e\n      \u003cth\u003e4\u003c/th\u003e\n      \u003ctd\u003e100007\u003c/td\u003e\n      \u003ctd\u003e0\u003c/td\u003e\n      \u003ctd\u003eCash loans\u003c/td\u003e\n      \u003ctd\u003eM\u003c/td\u003e\n      \u003ctd\u003eN\u003c/td\u003e\n      \u003ctd\u003eY\u003c/td\u003e\n      \u003ctd\u003e0\u003c/td\u003e\n      \u003ctd\u003e121500.0\u003c/td\u003e\n      \u003ctd\u003e513000.0\u003c/td\u003e\n      \u003ctd\u003e21865.5\u003c/td\u003e\n      \u003ctd\u003e...\u003c/td\u003e\n      \u003ctd\u003e0\u003c/td\u003e\n      \u003ctd\u003e0\u003c/td\u003e\n      \u003ctd\u003e0\u003c/td\u003e\n      \u003ctd\u003e0\u003c/td\u003e\n      \u003ctd\u003e0.0\u003c/td\u003e\n      \u003ctd\u003e0.0\u003c/td\u003e\n      \u003ctd\u003e0.0\u003c/td\u003e\n      \u003ctd\u003e0.0\u003c/td\u003e\n      \u003ctd\u003e0.0\u003c/td\u003e\n      \u003ctd\u003e0.0\u003c/td\u003e\n    \u003c/tr\u003e\n  \u003c/tbody\u003e\n\u003c/table\u003e\n\u003cp\u003e5 rows × 122 columns\u003c/p\u003e\n\u003c/div\u003e"
          },
          "metadata": {},
          "output_type": "execute_result",
          "execution_count": 3
        }
      ],
      "source": "application_data \u003d pd.read_csv(\"../data/mock/application_data_100.csv\")\n\napplication_data.head()\n",
      "metadata": {
        "pycharm": {
          "metadata": false,
          "name": "#%%\n",
          "is_executing": false
        }
      }
    },
    {
      "cell_type": "code",
      "execution_count": null,
      "outputs": [],
      "source": "\n\n",
      "metadata": {
        "pycharm": {
          "metadata": false,
          "name": "#%%\n"
        }
      }
    },
    {
      "cell_type": "markdown",
      "source": "# Analysis of the `previous_application` dataset\n",
      "metadata": {
        "pycharm": {
          "metadata": false,
          "name": "#%% md\n"
        }
      }
    },
    {
      "cell_type": "code",
      "execution_count": 4,
      "outputs": [
        {
          "data": {
            "text/plain": "   K_ID_PREV  SK_ID_CURR NAME_CONTRACT_TYPE  AMT_ANNUITY  AMT_APPLICATION  \\\n0    2030495      271877     Consumer loans     1730.430          17145.0   \n1    2802425      108129         Cash loans    25188.615         607500.0   \n2    2523466      122040         Cash loans    15060.735         112500.0   \n3    2819243      176158         Cash loans    47041.335         450000.0   \n4    1784265      202054         Cash loans    31924.395         337500.0   \n\n   AMT_CREDIT  AMT_DOWN_PAYMENT  AMT_GOODS_PRICE WEEKDAY_APPR_PROCESS_START  \\\n0     17145.0               0.0          17145.0                   SATURDAY   \n1    679671.0               NaN         607500.0                   THURSDAY   \n2    136444.5               NaN         112500.0                    TUESDAY   \n3    470790.0               NaN         450000.0                     MONDAY   \n4    404055.0               NaN         337500.0                   THURSDAY   \n\n   HOUR_APPR_PROCESS_START  ... NAME_SELLER_INDUSTRY  CNT_PAYMENT  \\\n0                       15  ...         Connectivity         12.0   \n1                       11  ...                  XNA         36.0   \n2                       11  ...                  XNA         12.0   \n3                        7  ...                  XNA         12.0   \n4                        9  ...                  XNA         24.0   \n\n   NAME_YIELD_GROUP       PRODUCT_COMBINATION  DAYS_FIRST_DRAWING  \\\n0            middle  POS mobile with interest            365243.0   \n1        low_action          Cash X-Sell: low            365243.0   \n2              high         Cash X-Sell: high            365243.0   \n3            middle       Cash X-Sell: middle            365243.0   \n4              high         Cash Street: high                 NaN   \n\n  DAYS_FIRST_DUE DAYS_LAST_DUE_1ST_VERSION  DAYS_LAST_DUE DAYS_TERMINATION  \\\n0          -42.0                     300.0          -42.0            -37.0   \n1         -134.0                     916.0       365243.0         365243.0   \n2         -271.0                      59.0       365243.0         365243.0   \n3         -482.0                    -152.0         -182.0           -177.0   \n4            NaN                       NaN            NaN              NaN   \n\n  NFLAG_INSURED_ON_APPROVAL  \n0                       0.0  \n1                       1.0  \n2                       1.0  \n3                       1.0  \n4                       NaN  \n\n[5 rows x 37 columns]",
            "text/html": "\u003cdiv\u003e\n\u003cstyle scoped\u003e\n    .dataframe tbody tr th:only-of-type {\n        vertical-align: middle;\n    }\n\n    .dataframe tbody tr th {\n        vertical-align: top;\n    }\n\n    .dataframe thead th {\n        text-align: right;\n    }\n\u003c/style\u003e\n\u003ctable border\u003d\"1\" class\u003d\"dataframe\"\u003e\n  \u003cthead\u003e\n    \u003ctr style\u003d\"text-align: right;\"\u003e\n      \u003cth\u003e\u003c/th\u003e\n      \u003cth\u003eK_ID_PREV\u003c/th\u003e\n      \u003cth\u003eSK_ID_CURR\u003c/th\u003e\n      \u003cth\u003eNAME_CONTRACT_TYPE\u003c/th\u003e\n      \u003cth\u003eAMT_ANNUITY\u003c/th\u003e\n      \u003cth\u003eAMT_APPLICATION\u003c/th\u003e\n      \u003cth\u003eAMT_CREDIT\u003c/th\u003e\n      \u003cth\u003eAMT_DOWN_PAYMENT\u003c/th\u003e\n      \u003cth\u003eAMT_GOODS_PRICE\u003c/th\u003e\n      \u003cth\u003eWEEKDAY_APPR_PROCESS_START\u003c/th\u003e\n      \u003cth\u003eHOUR_APPR_PROCESS_START\u003c/th\u003e\n      \u003cth\u003e...\u003c/th\u003e\n      \u003cth\u003eNAME_SELLER_INDUSTRY\u003c/th\u003e\n      \u003cth\u003eCNT_PAYMENT\u003c/th\u003e\n      \u003cth\u003eNAME_YIELD_GROUP\u003c/th\u003e\n      \u003cth\u003ePRODUCT_COMBINATION\u003c/th\u003e\n      \u003cth\u003eDAYS_FIRST_DRAWING\u003c/th\u003e\n      \u003cth\u003eDAYS_FIRST_DUE\u003c/th\u003e\n      \u003cth\u003eDAYS_LAST_DUE_1ST_VERSION\u003c/th\u003e\n      \u003cth\u003eDAYS_LAST_DUE\u003c/th\u003e\n      \u003cth\u003eDAYS_TERMINATION\u003c/th\u003e\n      \u003cth\u003eNFLAG_INSURED_ON_APPROVAL\u003c/th\u003e\n    \u003c/tr\u003e\n  \u003c/thead\u003e\n  \u003ctbody\u003e\n    \u003ctr\u003e\n      \u003cth\u003e0\u003c/th\u003e\n      \u003ctd\u003e2030495\u003c/td\u003e\n      \u003ctd\u003e271877\u003c/td\u003e\n      \u003ctd\u003eConsumer loans\u003c/td\u003e\n      \u003ctd\u003e1730.430\u003c/td\u003e\n      \u003ctd\u003e17145.0\u003c/td\u003e\n      \u003ctd\u003e17145.0\u003c/td\u003e\n      \u003ctd\u003e0.0\u003c/td\u003e\n      \u003ctd\u003e17145.0\u003c/td\u003e\n      \u003ctd\u003eSATURDAY\u003c/td\u003e\n      \u003ctd\u003e15\u003c/td\u003e\n      \u003ctd\u003e...\u003c/td\u003e\n      \u003ctd\u003eConnectivity\u003c/td\u003e\n      \u003ctd\u003e12.0\u003c/td\u003e\n      \u003ctd\u003emiddle\u003c/td\u003e\n      \u003ctd\u003ePOS mobile with interest\u003c/td\u003e\n      \u003ctd\u003e365243.0\u003c/td\u003e\n      \u003ctd\u003e-42.0\u003c/td\u003e\n      \u003ctd\u003e300.0\u003c/td\u003e\n      \u003ctd\u003e-42.0\u003c/td\u003e\n      \u003ctd\u003e-37.0\u003c/td\u003e\n      \u003ctd\u003e0.0\u003c/td\u003e\n    \u003c/tr\u003e\n    \u003ctr\u003e\n      \u003cth\u003e1\u003c/th\u003e\n      \u003ctd\u003e2802425\u003c/td\u003e\n      \u003ctd\u003e108129\u003c/td\u003e\n      \u003ctd\u003eCash loans\u003c/td\u003e\n      \u003ctd\u003e25188.615\u003c/td\u003e\n      \u003ctd\u003e607500.0\u003c/td\u003e\n      \u003ctd\u003e679671.0\u003c/td\u003e\n      \u003ctd\u003eNaN\u003c/td\u003e\n      \u003ctd\u003e607500.0\u003c/td\u003e\n      \u003ctd\u003eTHURSDAY\u003c/td\u003e\n      \u003ctd\u003e11\u003c/td\u003e\n      \u003ctd\u003e...\u003c/td\u003e\n      \u003ctd\u003eXNA\u003c/td\u003e\n      \u003ctd\u003e36.0\u003c/td\u003e\n      \u003ctd\u003elow_action\u003c/td\u003e\n      \u003ctd\u003eCash X-Sell: low\u003c/td\u003e\n      \u003ctd\u003e365243.0\u003c/td\u003e\n      \u003ctd\u003e-134.0\u003c/td\u003e\n      \u003ctd\u003e916.0\u003c/td\u003e\n      \u003ctd\u003e365243.0\u003c/td\u003e\n      \u003ctd\u003e365243.0\u003c/td\u003e\n      \u003ctd\u003e1.0\u003c/td\u003e\n    \u003c/tr\u003e\n    \u003ctr\u003e\n      \u003cth\u003e2\u003c/th\u003e\n      \u003ctd\u003e2523466\u003c/td\u003e\n      \u003ctd\u003e122040\u003c/td\u003e\n      \u003ctd\u003eCash loans\u003c/td\u003e\n      \u003ctd\u003e15060.735\u003c/td\u003e\n      \u003ctd\u003e112500.0\u003c/td\u003e\n      \u003ctd\u003e136444.5\u003c/td\u003e\n      \u003ctd\u003eNaN\u003c/td\u003e\n      \u003ctd\u003e112500.0\u003c/td\u003e\n      \u003ctd\u003eTUESDAY\u003c/td\u003e\n      \u003ctd\u003e11\u003c/td\u003e\n      \u003ctd\u003e...\u003c/td\u003e\n      \u003ctd\u003eXNA\u003c/td\u003e\n      \u003ctd\u003e12.0\u003c/td\u003e\n      \u003ctd\u003ehigh\u003c/td\u003e\n      \u003ctd\u003eCash X-Sell: high\u003c/td\u003e\n      \u003ctd\u003e365243.0\u003c/td\u003e\n      \u003ctd\u003e-271.0\u003c/td\u003e\n      \u003ctd\u003e59.0\u003c/td\u003e\n      \u003ctd\u003e365243.0\u003c/td\u003e\n      \u003ctd\u003e365243.0\u003c/td\u003e\n      \u003ctd\u003e1.0\u003c/td\u003e\n    \u003c/tr\u003e\n    \u003ctr\u003e\n      \u003cth\u003e3\u003c/th\u003e\n      \u003ctd\u003e2819243\u003c/td\u003e\n      \u003ctd\u003e176158\u003c/td\u003e\n      \u003ctd\u003eCash loans\u003c/td\u003e\n      \u003ctd\u003e47041.335\u003c/td\u003e\n      \u003ctd\u003e450000.0\u003c/td\u003e\n      \u003ctd\u003e470790.0\u003c/td\u003e\n      \u003ctd\u003eNaN\u003c/td\u003e\n      \u003ctd\u003e450000.0\u003c/td\u003e\n      \u003ctd\u003eMONDAY\u003c/td\u003e\n      \u003ctd\u003e7\u003c/td\u003e\n      \u003ctd\u003e...\u003c/td\u003e\n      \u003ctd\u003eXNA\u003c/td\u003e\n      \u003ctd\u003e12.0\u003c/td\u003e\n      \u003ctd\u003emiddle\u003c/td\u003e\n      \u003ctd\u003eCash X-Sell: middle\u003c/td\u003e\n      \u003ctd\u003e365243.0\u003c/td\u003e\n      \u003ctd\u003e-482.0\u003c/td\u003e\n      \u003ctd\u003e-152.0\u003c/td\u003e\n      \u003ctd\u003e-182.0\u003c/td\u003e\n      \u003ctd\u003e-177.0\u003c/td\u003e\n      \u003ctd\u003e1.0\u003c/td\u003e\n    \u003c/tr\u003e\n    \u003ctr\u003e\n      \u003cth\u003e4\u003c/th\u003e\n      \u003ctd\u003e1784265\u003c/td\u003e\n      \u003ctd\u003e202054\u003c/td\u003e\n      \u003ctd\u003eCash loans\u003c/td\u003e\n      \u003ctd\u003e31924.395\u003c/td\u003e\n      \u003ctd\u003e337500.0\u003c/td\u003e\n      \u003ctd\u003e404055.0\u003c/td\u003e\n      \u003ctd\u003eNaN\u003c/td\u003e\n      \u003ctd\u003e337500.0\u003c/td\u003e\n      \u003ctd\u003eTHURSDAY\u003c/td\u003e\n      \u003ctd\u003e9\u003c/td\u003e\n      \u003ctd\u003e...\u003c/td\u003e\n      \u003ctd\u003eXNA\u003c/td\u003e\n      \u003ctd\u003e24.0\u003c/td\u003e\n      \u003ctd\u003ehigh\u003c/td\u003e\n      \u003ctd\u003eCash Street: high\u003c/td\u003e\n      \u003ctd\u003eNaN\u003c/td\u003e\n      \u003ctd\u003eNaN\u003c/td\u003e\n      \u003ctd\u003eNaN\u003c/td\u003e\n      \u003ctd\u003eNaN\u003c/td\u003e\n      \u003ctd\u003eNaN\u003c/td\u003e\n      \u003ctd\u003eNaN\u003c/td\u003e\n    \u003c/tr\u003e\n  \u003c/tbody\u003e\n\u003c/table\u003e\n\u003cp\u003e5 rows × 37 columns\u003c/p\u003e\n\u003c/div\u003e"
          },
          "metadata": {},
          "output_type": "execute_result",
          "execution_count": 4
        }
      ],
      "source": "\nprevious_application \u003d pd.read_csv(\"../data/mock/previous_application_100.csv\")\n\nprevious_application.head()\n\n",
      "metadata": {
        "pycharm": {
          "metadata": false,
          "name": "#%%\n",
          "is_executing": false
        }
      }
    },
    {
      "cell_type": "markdown",
      "source": "# Find common columns in the CSVs\n",
      "metadata": {
        "pycharm": {
          "metadata": false,
          "name": "#%% md\n"
        }
      }
    },
    {
      "cell_type": "code",
      "execution_count": 5,
      "outputs": [],
      "source": "\nset1 \u003d set(application_data.columns.to_list())\nset2 \u003d set(previous_application.columns.to_list())\n",
      "metadata": {
        "pycharm": {
          "metadata": false,
          "name": "#%%\n",
          "is_executing": false
        }
      }
    },
    {
      "cell_type": "code",
      "execution_count": 6,
      "outputs": [
        {
          "data": {
            "text/plain": "{\u0027AMT_ANNUITY\u0027,\n \u0027AMT_CREDIT\u0027,\n \u0027AMT_GOODS_PRICE\u0027,\n \u0027HOUR_APPR_PROCESS_START\u0027,\n \u0027NAME_CONTRACT_TYPE\u0027,\n \u0027NAME_TYPE_SUITE\u0027,\n \u0027SK_ID_CURR\u0027,\n \u0027WEEKDAY_APPR_PROCESS_START\u0027}"
          },
          "metadata": {},
          "output_type": "execute_result",
          "execution_count": 6
        }
      ],
      "source": "\nset1.intersection(set2)\n\n#\n",
      "metadata": {
        "pycharm": {
          "metadata": false,
          "name": "#%%\n",
          "is_executing": false
        }
      }
    },
    {
      "cell_type": "markdown",
      "source": "\n# Now we try to find any common elements based on the common column of `SK_ID_CURR`\n",
      "metadata": {
        "pycharm": {
          "metadata": false,
          "name": "#%% md\n"
        }
      }
    },
    {
      "cell_type": "code",
      "execution_count": 7,
      "outputs": [
        {
          "data": {
            "text/plain": "[100002,\n 100003,\n 100004,\n 100006,\n 100007,\n 100008,\n 100009,\n 100010,\n 100011,\n 100012,\n 100014,\n 100015,\n 100016,\n 100017,\n 100018,\n 100019,\n 100020,\n 100021,\n 100022,\n 100023,\n 100024,\n 100025,\n 100026,\n 100027,\n 100029,\n 100030,\n 100031,\n 100032,\n 100033,\n 100034,\n 100035,\n 100036,\n 100037,\n 100039,\n 100040,\n 100041,\n 100043,\n 100044,\n 100045,\n 100046,\n 100047,\n 100048,\n 100049,\n 100050,\n 100051,\n 100052,\n 100053,\n 100054,\n 100055,\n 100056,\n 100058,\n 100059,\n 100060,\n 100061,\n 100062,\n 100063,\n 100064,\n 100068,\n 100069,\n 100070,\n 100071,\n 100072,\n 100073,\n 100075,\n 100076,\n 100077,\n 100078,\n 100079,\n 100080,\n 100081,\n 100082,\n 100083,\n 100084,\n 100085,\n 100086,\n 100087,\n 100088,\n 100089,\n 100093,\n 100094,\n 100095,\n 100096,\n 100097,\n 100098,\n 100099,\n 100100,\n 100101,\n 100102,\n 100103,\n 100104,\n 100105,\n 100108,\n 100110,\n 100111,\n 100112,\n 100113,\n 100114,\n 100115,\n 100116]"
          },
          "metadata": {},
          "output_type": "execute_result",
          "execution_count": 7
        }
      ],
      "source": "\nlist(application_data[[\u0027SK_ID_CURR\u0027]].to_dict()[\u0027SK_ID_CURR\u0027].values())\n",
      "metadata": {
        "pycharm": {
          "metadata": false,
          "name": "#%%\n",
          "is_executing": false
        }
      }
    },
    {
      "cell_type": "markdown",
      "source": "# Merge two dataframes based on the `SK_ID_CURR` column\n",
      "metadata": {
        "pycharm": {
          "metadata": false
        }
      }
    },
    {
      "cell_type": "code",
      "execution_count": 8,
      "outputs": [
        {
          "data": {
            "text/plain": "Empty DataFrame\nColumns: [SK_ID_CURR, TARGET, NAME_CONTRACT_TYPE_x, CODE_GENDER, FLAG_OWN_CAR, FLAG_OWN_REALTY, CNT_CHILDREN, AMT_INCOME_TOTAL, AMT_CREDIT_x, AMT_ANNUITY_x, AMT_GOODS_PRICE_x, NAME_TYPE_SUITE_x, NAME_INCOME_TYPE, NAME_EDUCATION_TYPE, NAME_FAMILY_STATUS, NAME_HOUSING_TYPE, REGION_POPULATION_RELATIVE, DAYS_BIRTH, DAYS_EMPLOYED, DAYS_REGISTRATION, DAYS_ID_PUBLISH, OWN_CAR_AGE, FLAG_MOBIL, FLAG_EMP_PHONE, FLAG_WORK_PHONE, FLAG_CONT_MOBILE, FLAG_PHONE, FLAG_EMAIL, OCCUPATION_TYPE, CNT_FAM_MEMBERS, REGION_RATING_CLIENT, REGION_RATING_CLIENT_W_CITY, WEEKDAY_APPR_PROCESS_START_x, HOUR_APPR_PROCESS_START_x, REG_REGION_NOT_LIVE_REGION, REG_REGION_NOT_WORK_REGION, LIVE_REGION_NOT_WORK_REGION, REG_CITY_NOT_LIVE_CITY, REG_CITY_NOT_WORK_CITY, LIVE_CITY_NOT_WORK_CITY, ORGANIZATION_TYPE, EXT_SOURCE_1, EXT_SOURCE_2, EXT_SOURCE_3, APARTMENTS_AVG, BASEMENTAREA_AVG, YEARS_BEGINEXPLUATATION_AVG, YEARS_BUILD_AVG, COMMONAREA_AVG, ELEVATORS_AVG, ENTRANCES_AVG, FLOORSMAX_AVG, FLOORSMIN_AVG, LANDAREA_AVG, LIVINGAPARTMENTS_AVG, LIVINGAREA_AVG, NONLIVINGAPARTMENTS_AVG, NONLIVINGAREA_AVG, APARTMENTS_MODE, BASEMENTAREA_MODE, YEARS_BEGINEXPLUATATION_MODE, YEARS_BUILD_MODE, COMMONAREA_MODE, ELEVATORS_MODE, ENTRANCES_MODE, FLOORSMAX_MODE, FLOORSMIN_MODE, LANDAREA_MODE, LIVINGAPARTMENTS_MODE, LIVINGAREA_MODE, NONLIVINGAPARTMENTS_MODE, NONLIVINGAREA_MODE, APARTMENTS_MEDI, BASEMENTAREA_MEDI, YEARS_BEGINEXPLUATATION_MEDI, YEARS_BUILD_MEDI, COMMONAREA_MEDI, ELEVATORS_MEDI, ENTRANCES_MEDI, FLOORSMAX_MEDI, FLOORSMIN_MEDI, LANDAREA_MEDI, LIVINGAPARTMENTS_MEDI, LIVINGAREA_MEDI, NONLIVINGAPARTMENTS_MEDI, NONLIVINGAREA_MEDI, FONDKAPREMONT_MODE, HOUSETYPE_MODE, TOTALAREA_MODE, WALLSMATERIAL_MODE, EMERGENCYSTATE_MODE, OBS_30_CNT_SOCIAL_CIRCLE, DEF_30_CNT_SOCIAL_CIRCLE, OBS_60_CNT_SOCIAL_CIRCLE, DEF_60_CNT_SOCIAL_CIRCLE, DAYS_LAST_PHONE_CHANGE, FLAG_DOCUMENT_2, FLAG_DOCUMENT_3, FLAG_DOCUMENT_4, FLAG_DOCUMENT_5, ...]\nIndex: []\n\n[0 rows x 158 columns]",
            "text/html": "\u003cdiv\u003e\n\u003cstyle scoped\u003e\n    .dataframe tbody tr th:only-of-type {\n        vertical-align: middle;\n    }\n\n    .dataframe tbody tr th {\n        vertical-align: top;\n    }\n\n    .dataframe thead th {\n        text-align: right;\n    }\n\u003c/style\u003e\n\u003ctable border\u003d\"1\" class\u003d\"dataframe\"\u003e\n  \u003cthead\u003e\n    \u003ctr style\u003d\"text-align: right;\"\u003e\n      \u003cth\u003e\u003c/th\u003e\n      \u003cth\u003eSK_ID_CURR\u003c/th\u003e\n      \u003cth\u003eTARGET\u003c/th\u003e\n      \u003cth\u003eNAME_CONTRACT_TYPE_x\u003c/th\u003e\n      \u003cth\u003eCODE_GENDER\u003c/th\u003e\n      \u003cth\u003eFLAG_OWN_CAR\u003c/th\u003e\n      \u003cth\u003eFLAG_OWN_REALTY\u003c/th\u003e\n      \u003cth\u003eCNT_CHILDREN\u003c/th\u003e\n      \u003cth\u003eAMT_INCOME_TOTAL\u003c/th\u003e\n      \u003cth\u003eAMT_CREDIT_x\u003c/th\u003e\n      \u003cth\u003eAMT_ANNUITY_x\u003c/th\u003e\n      \u003cth\u003e...\u003c/th\u003e\n      \u003cth\u003eNAME_SELLER_INDUSTRY\u003c/th\u003e\n      \u003cth\u003eCNT_PAYMENT\u003c/th\u003e\n      \u003cth\u003eNAME_YIELD_GROUP\u003c/th\u003e\n      \u003cth\u003ePRODUCT_COMBINATION\u003c/th\u003e\n      \u003cth\u003eDAYS_FIRST_DRAWING\u003c/th\u003e\n      \u003cth\u003eDAYS_FIRST_DUE\u003c/th\u003e\n      \u003cth\u003eDAYS_LAST_DUE_1ST_VERSION\u003c/th\u003e\n      \u003cth\u003eDAYS_LAST_DUE\u003c/th\u003e\n      \u003cth\u003eDAYS_TERMINATION\u003c/th\u003e\n      \u003cth\u003eNFLAG_INSURED_ON_APPROVAL\u003c/th\u003e\n    \u003c/tr\u003e\n  \u003c/thead\u003e\n  \u003ctbody\u003e\n  \u003c/tbody\u003e\n\u003c/table\u003e\n\u003cp\u003e0 rows × 158 columns\u003c/p\u003e\n\u003c/div\u003e"
          },
          "metadata": {},
          "output_type": "execute_result",
          "execution_count": 8
        }
      ],
      "source": "\npd.merge(application_data, previous_application, on\u003d\"SK_ID_CURR\")\n\n",
      "metadata": {
        "pycharm": {
          "metadata": false,
          "name": "#%%\n",
          "is_executing": false
        }
      }
    },
    {
      "cell_type": "code",
      "execution_count": 5,
      "outputs": [
        {
          "data": {
            "text/plain": "           a         b         c         d\n0   0.879203  0.693636  0.168390  0.041542\n1   0.038759  0.153677  0.443990  0.037210\n2   0.830731  0.538927  0.922042  0.456063\n3   0.848472  0.800394  0.394883  0.891541\n4   0.667917  0.541432  0.891211  0.915365\n5   0.588138  0.124637  0.349709  0.368856\n6   0.988216  0.296141  0.204866  0.644724\n7   0.664327  0.609233  0.918037  0.764846\n8   0.715788  0.898948  0.304311  0.543799\n9   0.715156  0.168958  0.766787  0.750868\n10  0.672397  0.545587  0.625953  0.011349\n11  0.897776  0.367539  0.325760  0.935851\n12  0.638967  0.601348  0.744362  0.971237\n13  0.027183  0.104582  0.595955  0.205151\n14  0.393304  0.244898  0.602538  0.045916\n15  0.262375  0.482372  0.192262  0.401953\n16  0.225163  0.811807  0.615879  0.880574\n17  0.844191  0.805770  0.889987  0.083895\n18  0.756513  0.434793  0.220480  0.008863\n19  0.301053  0.607907  0.972075  0.762777\n20  0.591088  0.948283  0.607363  0.278507\n21  0.222873  0.331314  0.931858  0.538883\n22  0.682107  0.074529  0.210037  0.441437\n23  0.204038  0.997849  0.909780  0.223688\n24  0.581639  0.669891  0.773037  0.735461\n25  0.225494  0.150824  0.224903  0.753199\n26  0.874877  0.254632  0.513729  0.993925\n27  0.374077  0.167655  0.561211  0.961844\n28  0.250298  0.868909  0.173532  0.690635\n29  0.623795  0.312134  0.354914  0.404531\n30  0.297749  0.736805  0.724080  0.227590\n31  0.840630  0.007055  0.155120  0.619910\n32  0.570563  0.434624  0.872332  0.263572\n33  0.636676  0.809678  0.977236  0.993705\n34  0.546433  0.637926  0.654801  0.610386\n35  0.704993  0.769849  0.966238  0.085828\n36  0.801034  0.689304  0.410517  0.821349\n37  0.248173  0.313332  0.014584  0.166250\n38  0.951988  0.403296  0.317840  0.361248\n39  0.859041  0.226666  0.493522  0.780285\n40  0.387431  0.034570  0.707800  0.118357\n41  0.077466  0.096164  0.631486  0.087158\n42  0.783278  0.462692  0.849762  0.740997\n43  0.192056  0.849334  0.611184  0.579578\n44  0.307265  0.865861  0.983028  0.312116\n45  0.651142  0.248235  0.702606  0.548226\n46  0.950353  0.577055  0.990906  0.510830\n47  0.396418  0.691165  0.060162  0.709057\n48  0.339079  0.882223  0.797983  0.960266\n49  0.353696  0.204709  0.147848  0.408091",
            "text/html": "\u003cdiv\u003e\n\u003cstyle scoped\u003e\n    .dataframe tbody tr th:only-of-type {\n        vertical-align: middle;\n    }\n\n    .dataframe tbody tr th {\n        vertical-align: top;\n    }\n\n    .dataframe thead th {\n        text-align: right;\n    }\n\u003c/style\u003e\n\u003ctable border\u003d\"1\" class\u003d\"dataframe\"\u003e\n  \u003cthead\u003e\n    \u003ctr style\u003d\"text-align: right;\"\u003e\n      \u003cth\u003e\u003c/th\u003e\n      \u003cth\u003ea\u003c/th\u003e\n      \u003cth\u003eb\u003c/th\u003e\n      \u003cth\u003ec\u003c/th\u003e\n      \u003cth\u003ed\u003c/th\u003e\n    \u003c/tr\u003e\n  \u003c/thead\u003e\n  \u003ctbody\u003e\n    \u003ctr\u003e\n      \u003cth\u003e0\u003c/th\u003e\n      \u003ctd\u003e0.879203\u003c/td\u003e\n      \u003ctd\u003e0.693636\u003c/td\u003e\n      \u003ctd\u003e0.168390\u003c/td\u003e\n      \u003ctd\u003e0.041542\u003c/td\u003e\n    \u003c/tr\u003e\n    \u003ctr\u003e\n      \u003cth\u003e1\u003c/th\u003e\n      \u003ctd\u003e0.038759\u003c/td\u003e\n      \u003ctd\u003e0.153677\u003c/td\u003e\n      \u003ctd\u003e0.443990\u003c/td\u003e\n      \u003ctd\u003e0.037210\u003c/td\u003e\n    \u003c/tr\u003e\n    \u003ctr\u003e\n      \u003cth\u003e2\u003c/th\u003e\n      \u003ctd\u003e0.830731\u003c/td\u003e\n      \u003ctd\u003e0.538927\u003c/td\u003e\n      \u003ctd\u003e0.922042\u003c/td\u003e\n      \u003ctd\u003e0.456063\u003c/td\u003e\n    \u003c/tr\u003e\n    \u003ctr\u003e\n      \u003cth\u003e3\u003c/th\u003e\n      \u003ctd\u003e0.848472\u003c/td\u003e\n      \u003ctd\u003e0.800394\u003c/td\u003e\n      \u003ctd\u003e0.394883\u003c/td\u003e\n      \u003ctd\u003e0.891541\u003c/td\u003e\n    \u003c/tr\u003e\n    \u003ctr\u003e\n      \u003cth\u003e4\u003c/th\u003e\n      \u003ctd\u003e0.667917\u003c/td\u003e\n      \u003ctd\u003e0.541432\u003c/td\u003e\n      \u003ctd\u003e0.891211\u003c/td\u003e\n      \u003ctd\u003e0.915365\u003c/td\u003e\n    \u003c/tr\u003e\n    \u003ctr\u003e\n      \u003cth\u003e5\u003c/th\u003e\n      \u003ctd\u003e0.588138\u003c/td\u003e\n      \u003ctd\u003e0.124637\u003c/td\u003e\n      \u003ctd\u003e0.349709\u003c/td\u003e\n      \u003ctd\u003e0.368856\u003c/td\u003e\n    \u003c/tr\u003e\n    \u003ctr\u003e\n      \u003cth\u003e6\u003c/th\u003e\n      \u003ctd\u003e0.988216\u003c/td\u003e\n      \u003ctd\u003e0.296141\u003c/td\u003e\n      \u003ctd\u003e0.204866\u003c/td\u003e\n      \u003ctd\u003e0.644724\u003c/td\u003e\n    \u003c/tr\u003e\n    \u003ctr\u003e\n      \u003cth\u003e7\u003c/th\u003e\n      \u003ctd\u003e0.664327\u003c/td\u003e\n      \u003ctd\u003e0.609233\u003c/td\u003e\n      \u003ctd\u003e0.918037\u003c/td\u003e\n      \u003ctd\u003e0.764846\u003c/td\u003e\n    \u003c/tr\u003e\n    \u003ctr\u003e\n      \u003cth\u003e8\u003c/th\u003e\n      \u003ctd\u003e0.715788\u003c/td\u003e\n      \u003ctd\u003e0.898948\u003c/td\u003e\n      \u003ctd\u003e0.304311\u003c/td\u003e\n      \u003ctd\u003e0.543799\u003c/td\u003e\n    \u003c/tr\u003e\n    \u003ctr\u003e\n      \u003cth\u003e9\u003c/th\u003e\n      \u003ctd\u003e0.715156\u003c/td\u003e\n      \u003ctd\u003e0.168958\u003c/td\u003e\n      \u003ctd\u003e0.766787\u003c/td\u003e\n      \u003ctd\u003e0.750868\u003c/td\u003e\n    \u003c/tr\u003e\n    \u003ctr\u003e\n      \u003cth\u003e10\u003c/th\u003e\n      \u003ctd\u003e0.672397\u003c/td\u003e\n      \u003ctd\u003e0.545587\u003c/td\u003e\n      \u003ctd\u003e0.625953\u003c/td\u003e\n      \u003ctd\u003e0.011349\u003c/td\u003e\n    \u003c/tr\u003e\n    \u003ctr\u003e\n      \u003cth\u003e11\u003c/th\u003e\n      \u003ctd\u003e0.897776\u003c/td\u003e\n      \u003ctd\u003e0.367539\u003c/td\u003e\n      \u003ctd\u003e0.325760\u003c/td\u003e\n      \u003ctd\u003e0.935851\u003c/td\u003e\n    \u003c/tr\u003e\n    \u003ctr\u003e\n      \u003cth\u003e12\u003c/th\u003e\n      \u003ctd\u003e0.638967\u003c/td\u003e\n      \u003ctd\u003e0.601348\u003c/td\u003e\n      \u003ctd\u003e0.744362\u003c/td\u003e\n      \u003ctd\u003e0.971237\u003c/td\u003e\n    \u003c/tr\u003e\n    \u003ctr\u003e\n      \u003cth\u003e13\u003c/th\u003e\n      \u003ctd\u003e0.027183\u003c/td\u003e\n      \u003ctd\u003e0.104582\u003c/td\u003e\n      \u003ctd\u003e0.595955\u003c/td\u003e\n      \u003ctd\u003e0.205151\u003c/td\u003e\n    \u003c/tr\u003e\n    \u003ctr\u003e\n      \u003cth\u003e14\u003c/th\u003e\n      \u003ctd\u003e0.393304\u003c/td\u003e\n      \u003ctd\u003e0.244898\u003c/td\u003e\n      \u003ctd\u003e0.602538\u003c/td\u003e\n      \u003ctd\u003e0.045916\u003c/td\u003e\n    \u003c/tr\u003e\n    \u003ctr\u003e\n      \u003cth\u003e15\u003c/th\u003e\n      \u003ctd\u003e0.262375\u003c/td\u003e\n      \u003ctd\u003e0.482372\u003c/td\u003e\n      \u003ctd\u003e0.192262\u003c/td\u003e\n      \u003ctd\u003e0.401953\u003c/td\u003e\n    \u003c/tr\u003e\n    \u003ctr\u003e\n      \u003cth\u003e16\u003c/th\u003e\n      \u003ctd\u003e0.225163\u003c/td\u003e\n      \u003ctd\u003e0.811807\u003c/td\u003e\n      \u003ctd\u003e0.615879\u003c/td\u003e\n      \u003ctd\u003e0.880574\u003c/td\u003e\n    \u003c/tr\u003e\n    \u003ctr\u003e\n      \u003cth\u003e17\u003c/th\u003e\n      \u003ctd\u003e0.844191\u003c/td\u003e\n      \u003ctd\u003e0.805770\u003c/td\u003e\n      \u003ctd\u003e0.889987\u003c/td\u003e\n      \u003ctd\u003e0.083895\u003c/td\u003e\n    \u003c/tr\u003e\n    \u003ctr\u003e\n      \u003cth\u003e18\u003c/th\u003e\n      \u003ctd\u003e0.756513\u003c/td\u003e\n      \u003ctd\u003e0.434793\u003c/td\u003e\n      \u003ctd\u003e0.220480\u003c/td\u003e\n      \u003ctd\u003e0.008863\u003c/td\u003e\n    \u003c/tr\u003e\n    \u003ctr\u003e\n      \u003cth\u003e19\u003c/th\u003e\n      \u003ctd\u003e0.301053\u003c/td\u003e\n      \u003ctd\u003e0.607907\u003c/td\u003e\n      \u003ctd\u003e0.972075\u003c/td\u003e\n      \u003ctd\u003e0.762777\u003c/td\u003e\n    \u003c/tr\u003e\n    \u003ctr\u003e\n      \u003cth\u003e20\u003c/th\u003e\n      \u003ctd\u003e0.591088\u003c/td\u003e\n      \u003ctd\u003e0.948283\u003c/td\u003e\n      \u003ctd\u003e0.607363\u003c/td\u003e\n      \u003ctd\u003e0.278507\u003c/td\u003e\n    \u003c/tr\u003e\n    \u003ctr\u003e\n      \u003cth\u003e21\u003c/th\u003e\n      \u003ctd\u003e0.222873\u003c/td\u003e\n      \u003ctd\u003e0.331314\u003c/td\u003e\n      \u003ctd\u003e0.931858\u003c/td\u003e\n      \u003ctd\u003e0.538883\u003c/td\u003e\n    \u003c/tr\u003e\n    \u003ctr\u003e\n      \u003cth\u003e22\u003c/th\u003e\n      \u003ctd\u003e0.682107\u003c/td\u003e\n      \u003ctd\u003e0.074529\u003c/td\u003e\n      \u003ctd\u003e0.210037\u003c/td\u003e\n      \u003ctd\u003e0.441437\u003c/td\u003e\n    \u003c/tr\u003e\n    \u003ctr\u003e\n      \u003cth\u003e23\u003c/th\u003e\n      \u003ctd\u003e0.204038\u003c/td\u003e\n      \u003ctd\u003e0.997849\u003c/td\u003e\n      \u003ctd\u003e0.909780\u003c/td\u003e\n      \u003ctd\u003e0.223688\u003c/td\u003e\n    \u003c/tr\u003e\n    \u003ctr\u003e\n      \u003cth\u003e24\u003c/th\u003e\n      \u003ctd\u003e0.581639\u003c/td\u003e\n      \u003ctd\u003e0.669891\u003c/td\u003e\n      \u003ctd\u003e0.773037\u003c/td\u003e\n      \u003ctd\u003e0.735461\u003c/td\u003e\n    \u003c/tr\u003e\n    \u003ctr\u003e\n      \u003cth\u003e25\u003c/th\u003e\n      \u003ctd\u003e0.225494\u003c/td\u003e\n      \u003ctd\u003e0.150824\u003c/td\u003e\n      \u003ctd\u003e0.224903\u003c/td\u003e\n      \u003ctd\u003e0.753199\u003c/td\u003e\n    \u003c/tr\u003e\n    \u003ctr\u003e\n      \u003cth\u003e26\u003c/th\u003e\n      \u003ctd\u003e0.874877\u003c/td\u003e\n      \u003ctd\u003e0.254632\u003c/td\u003e\n      \u003ctd\u003e0.513729\u003c/td\u003e\n      \u003ctd\u003e0.993925\u003c/td\u003e\n    \u003c/tr\u003e\n    \u003ctr\u003e\n      \u003cth\u003e27\u003c/th\u003e\n      \u003ctd\u003e0.374077\u003c/td\u003e\n      \u003ctd\u003e0.167655\u003c/td\u003e\n      \u003ctd\u003e0.561211\u003c/td\u003e\n      \u003ctd\u003e0.961844\u003c/td\u003e\n    \u003c/tr\u003e\n    \u003ctr\u003e\n      \u003cth\u003e28\u003c/th\u003e\n      \u003ctd\u003e0.250298\u003c/td\u003e\n      \u003ctd\u003e0.868909\u003c/td\u003e\n      \u003ctd\u003e0.173532\u003c/td\u003e\n      \u003ctd\u003e0.690635\u003c/td\u003e\n    \u003c/tr\u003e\n    \u003ctr\u003e\n      \u003cth\u003e29\u003c/th\u003e\n      \u003ctd\u003e0.623795\u003c/td\u003e\n      \u003ctd\u003e0.312134\u003c/td\u003e\n      \u003ctd\u003e0.354914\u003c/td\u003e\n      \u003ctd\u003e0.404531\u003c/td\u003e\n    \u003c/tr\u003e\n    \u003ctr\u003e\n      \u003cth\u003e30\u003c/th\u003e\n      \u003ctd\u003e0.297749\u003c/td\u003e\n      \u003ctd\u003e0.736805\u003c/td\u003e\n      \u003ctd\u003e0.724080\u003c/td\u003e\n      \u003ctd\u003e0.227590\u003c/td\u003e\n    \u003c/tr\u003e\n    \u003ctr\u003e\n      \u003cth\u003e31\u003c/th\u003e\n      \u003ctd\u003e0.840630\u003c/td\u003e\n      \u003ctd\u003e0.007055\u003c/td\u003e\n      \u003ctd\u003e0.155120\u003c/td\u003e\n      \u003ctd\u003e0.619910\u003c/td\u003e\n    \u003c/tr\u003e\n    \u003ctr\u003e\n      \u003cth\u003e32\u003c/th\u003e\n      \u003ctd\u003e0.570563\u003c/td\u003e\n      \u003ctd\u003e0.434624\u003c/td\u003e\n      \u003ctd\u003e0.872332\u003c/td\u003e\n      \u003ctd\u003e0.263572\u003c/td\u003e\n    \u003c/tr\u003e\n    \u003ctr\u003e\n      \u003cth\u003e33\u003c/th\u003e\n      \u003ctd\u003e0.636676\u003c/td\u003e\n      \u003ctd\u003e0.809678\u003c/td\u003e\n      \u003ctd\u003e0.977236\u003c/td\u003e\n      \u003ctd\u003e0.993705\u003c/td\u003e\n    \u003c/tr\u003e\n    \u003ctr\u003e\n      \u003cth\u003e34\u003c/th\u003e\n      \u003ctd\u003e0.546433\u003c/td\u003e\n      \u003ctd\u003e0.637926\u003c/td\u003e\n      \u003ctd\u003e0.654801\u003c/td\u003e\n      \u003ctd\u003e0.610386\u003c/td\u003e\n    \u003c/tr\u003e\n    \u003ctr\u003e\n      \u003cth\u003e35\u003c/th\u003e\n      \u003ctd\u003e0.704993\u003c/td\u003e\n      \u003ctd\u003e0.769849\u003c/td\u003e\n      \u003ctd\u003e0.966238\u003c/td\u003e\n      \u003ctd\u003e0.085828\u003c/td\u003e\n    \u003c/tr\u003e\n    \u003ctr\u003e\n      \u003cth\u003e36\u003c/th\u003e\n      \u003ctd\u003e0.801034\u003c/td\u003e\n      \u003ctd\u003e0.689304\u003c/td\u003e\n      \u003ctd\u003e0.410517\u003c/td\u003e\n      \u003ctd\u003e0.821349\u003c/td\u003e\n    \u003c/tr\u003e\n    \u003ctr\u003e\n      \u003cth\u003e37\u003c/th\u003e\n      \u003ctd\u003e0.248173\u003c/td\u003e\n      \u003ctd\u003e0.313332\u003c/td\u003e\n      \u003ctd\u003e0.014584\u003c/td\u003e\n      \u003ctd\u003e0.166250\u003c/td\u003e\n    \u003c/tr\u003e\n    \u003ctr\u003e\n      \u003cth\u003e38\u003c/th\u003e\n      \u003ctd\u003e0.951988\u003c/td\u003e\n      \u003ctd\u003e0.403296\u003c/td\u003e\n      \u003ctd\u003e0.317840\u003c/td\u003e\n      \u003ctd\u003e0.361248\u003c/td\u003e\n    \u003c/tr\u003e\n    \u003ctr\u003e\n      \u003cth\u003e39\u003c/th\u003e\n      \u003ctd\u003e0.859041\u003c/td\u003e\n      \u003ctd\u003e0.226666\u003c/td\u003e\n      \u003ctd\u003e0.493522\u003c/td\u003e\n      \u003ctd\u003e0.780285\u003c/td\u003e\n    \u003c/tr\u003e\n    \u003ctr\u003e\n      \u003cth\u003e40\u003c/th\u003e\n      \u003ctd\u003e0.387431\u003c/td\u003e\n      \u003ctd\u003e0.034570\u003c/td\u003e\n      \u003ctd\u003e0.707800\u003c/td\u003e\n      \u003ctd\u003e0.118357\u003c/td\u003e\n    \u003c/tr\u003e\n    \u003ctr\u003e\n      \u003cth\u003e41\u003c/th\u003e\n      \u003ctd\u003e0.077466\u003c/td\u003e\n      \u003ctd\u003e0.096164\u003c/td\u003e\n      \u003ctd\u003e0.631486\u003c/td\u003e\n      \u003ctd\u003e0.087158\u003c/td\u003e\n    \u003c/tr\u003e\n    \u003ctr\u003e\n      \u003cth\u003e42\u003c/th\u003e\n      \u003ctd\u003e0.783278\u003c/td\u003e\n      \u003ctd\u003e0.462692\u003c/td\u003e\n      \u003ctd\u003e0.849762\u003c/td\u003e\n      \u003ctd\u003e0.740997\u003c/td\u003e\n    \u003c/tr\u003e\n    \u003ctr\u003e\n      \u003cth\u003e43\u003c/th\u003e\n      \u003ctd\u003e0.192056\u003c/td\u003e\n      \u003ctd\u003e0.849334\u003c/td\u003e\n      \u003ctd\u003e0.611184\u003c/td\u003e\n      \u003ctd\u003e0.579578\u003c/td\u003e\n    \u003c/tr\u003e\n    \u003ctr\u003e\n      \u003cth\u003e44\u003c/th\u003e\n      \u003ctd\u003e0.307265\u003c/td\u003e\n      \u003ctd\u003e0.865861\u003c/td\u003e\n      \u003ctd\u003e0.983028\u003c/td\u003e\n      \u003ctd\u003e0.312116\u003c/td\u003e\n    \u003c/tr\u003e\n    \u003ctr\u003e\n      \u003cth\u003e45\u003c/th\u003e\n      \u003ctd\u003e0.651142\u003c/td\u003e\n      \u003ctd\u003e0.248235\u003c/td\u003e\n      \u003ctd\u003e0.702606\u003c/td\u003e\n      \u003ctd\u003e0.548226\u003c/td\u003e\n    \u003c/tr\u003e\n    \u003ctr\u003e\n      \u003cth\u003e46\u003c/th\u003e\n      \u003ctd\u003e0.950353\u003c/td\u003e\n      \u003ctd\u003e0.577055\u003c/td\u003e\n      \u003ctd\u003e0.990906\u003c/td\u003e\n      \u003ctd\u003e0.510830\u003c/td\u003e\n    \u003c/tr\u003e\n    \u003ctr\u003e\n      \u003cth\u003e47\u003c/th\u003e\n      \u003ctd\u003e0.396418\u003c/td\u003e\n      \u003ctd\u003e0.691165\u003c/td\u003e\n      \u003ctd\u003e0.060162\u003c/td\u003e\n      \u003ctd\u003e0.709057\u003c/td\u003e\n    \u003c/tr\u003e\n    \u003ctr\u003e\n      \u003cth\u003e48\u003c/th\u003e\n      \u003ctd\u003e0.339079\u003c/td\u003e\n      \u003ctd\u003e0.882223\u003c/td\u003e\n      \u003ctd\u003e0.797983\u003c/td\u003e\n      \u003ctd\u003e0.960266\u003c/td\u003e\n    \u003c/tr\u003e\n    \u003ctr\u003e\n      \u003cth\u003e49\u003c/th\u003e\n      \u003ctd\u003e0.353696\u003c/td\u003e\n      \u003ctd\u003e0.204709\u003c/td\u003e\n      \u003ctd\u003e0.147848\u003c/td\u003e\n      \u003ctd\u003e0.408091\u003c/td\u003e\n    \u003c/tr\u003e\n  \u003c/tbody\u003e\n\u003c/table\u003e\n\u003c/div\u003e"
          },
          "metadata": {},
          "output_type": "execute_result",
          "execution_count": 5
        }
      ],
      "source": "\ndf \u003d pd.DataFrame(np.random.rand(50, 4), columns\u003d[\u0027a\u0027, \u0027b\u0027, \u0027c\u0027, \u0027d\u0027])\ndf\n",
      "metadata": {
        "pycharm": {
          "metadata": false,
          "name": "#%%\n",
          "is_executing": false
        }
      }
    },
    {
      "cell_type": "code",
      "execution_count": null,
      "outputs": [],
      "source": "\n\ndf.plot.scatter(x\u003d\u0027a\u0027, y\u003d\u0027b\u0027);",
      "metadata": {
        "pycharm": {
          "metadata": false,
          "name": "#%%\n"
        }
      }
    }
  ],
  "metadata": {
    "language_info": {
      "codemirror_mode": {
        "name": "ipython",
        "version": 2
      },
      "file_extension": ".py",
      "mimetype": "text/x-python",
      "name": "python",
      "nbconvert_exporter": "python",
      "pygments_lexer": "ipython2",
      "version": "2.7.6"
    },
    "kernelspec": {
      "name": "python3",
      "language": "python",
      "display_name": "Python 3"
    },
    "stem_cell": {
      "cell_type": "raw",
      "source": "",
      "metadata": {
        "pycharm": {
          "metadata": false
        }
      }
    }
  },
  "nbformat": 4,
  "nbformat_minor": 0
}