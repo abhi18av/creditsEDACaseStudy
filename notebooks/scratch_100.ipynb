{
  "cells": [
    {
      "cell_type": "code",
      "execution_count": 1,
      "metadata": {
        "collapsed": true,
        "pycharm": {
          "is_executing": false
        }
      },
      "outputs": [],
      "source": "import pandas as pd\nimport numpy as np\nimport seaborn as sb\nimport os\nimport chardet\n\n"
    },
    {
      "cell_type": "markdown",
      "source": "\n# `columns_description` contains an explanation of all the variables in the analysis\n",
      "metadata": {
        "pycharm": {
          "metadata": false,
          "name": "#%% md\n"
        }
      }
    },
    {
      "cell_type": "code",
      "execution_count": 2,
      "outputs": [
        {
          "data": {
            "text/plain": "   Unnamed: 0             Table                 Row  \\\n0           1  application_data          SK_ID_CURR   \n1           2  application_data              TARGET   \n2           5  application_data  NAME_CONTRACT_TYPE   \n3           6  application_data         CODE_GENDER   \n4           7  application_data        FLAG_OWN_CAR   \n\n                                         Description Special  \n0                           ID of loan in our sample     NaN  \n1  Target variable (1 - client with payment diffi...     NaN  \n2        Identification if loan is cash or revolving     NaN  \n3                               Gender of the client     NaN  \n4                      Flag if the client owns a car     NaN  ",
            "text/html": "\u003cdiv\u003e\n\u003cstyle scoped\u003e\n    .dataframe tbody tr th:only-of-type {\n        vertical-align: middle;\n    }\n\n    .dataframe tbody tr th {\n        vertical-align: top;\n    }\n\n    .dataframe thead th {\n        text-align: right;\n    }\n\u003c/style\u003e\n\u003ctable border\u003d\"1\" class\u003d\"dataframe\"\u003e\n  \u003cthead\u003e\n    \u003ctr style\u003d\"text-align: right;\"\u003e\n      \u003cth\u003e\u003c/th\u003e\n      \u003cth\u003eUnnamed: 0\u003c/th\u003e\n      \u003cth\u003eTable\u003c/th\u003e\n      \u003cth\u003eRow\u003c/th\u003e\n      \u003cth\u003eDescription\u003c/th\u003e\n      \u003cth\u003eSpecial\u003c/th\u003e\n    \u003c/tr\u003e\n  \u003c/thead\u003e\n  \u003ctbody\u003e\n    \u003ctr\u003e\n      \u003cth\u003e0\u003c/th\u003e\n      \u003ctd\u003e1\u003c/td\u003e\n      \u003ctd\u003eapplication_data\u003c/td\u003e\n      \u003ctd\u003eSK_ID_CURR\u003c/td\u003e\n      \u003ctd\u003eID of loan in our sample\u003c/td\u003e\n      \u003ctd\u003eNaN\u003c/td\u003e\n    \u003c/tr\u003e\n    \u003ctr\u003e\n      \u003cth\u003e1\u003c/th\u003e\n      \u003ctd\u003e2\u003c/td\u003e\n      \u003ctd\u003eapplication_data\u003c/td\u003e\n      \u003ctd\u003eTARGET\u003c/td\u003e\n      \u003ctd\u003eTarget variable (1 - client with payment diffi...\u003c/td\u003e\n      \u003ctd\u003eNaN\u003c/td\u003e\n    \u003c/tr\u003e\n    \u003ctr\u003e\n      \u003cth\u003e2\u003c/th\u003e\n      \u003ctd\u003e5\u003c/td\u003e\n      \u003ctd\u003eapplication_data\u003c/td\u003e\n      \u003ctd\u003eNAME_CONTRACT_TYPE\u003c/td\u003e\n      \u003ctd\u003eIdentification if loan is cash or revolving\u003c/td\u003e\n      \u003ctd\u003eNaN\u003c/td\u003e\n    \u003c/tr\u003e\n    \u003ctr\u003e\n      \u003cth\u003e3\u003c/th\u003e\n      \u003ctd\u003e6\u003c/td\u003e\n      \u003ctd\u003eapplication_data\u003c/td\u003e\n      \u003ctd\u003eCODE_GENDER\u003c/td\u003e\n      \u003ctd\u003eGender of the client\u003c/td\u003e\n      \u003ctd\u003eNaN\u003c/td\u003e\n    \u003c/tr\u003e\n    \u003ctr\u003e\n      \u003cth\u003e4\u003c/th\u003e\n      \u003ctd\u003e7\u003c/td\u003e\n      \u003ctd\u003eapplication_data\u003c/td\u003e\n      \u003ctd\u003eFLAG_OWN_CAR\u003c/td\u003e\n      \u003ctd\u003eFlag if the client owns a car\u003c/td\u003e\n      \u003ctd\u003eNaN\u003c/td\u003e\n    \u003c/tr\u003e\n  \u003c/tbody\u003e\n\u003c/table\u003e\n\u003c/div\u003e"
          },
          "metadata": {},
          "output_type": "execute_result",
          "execution_count": 2
        }
      ],
      "source": "# used the chardet and it\u0027s cli tool chardetect to check the characterset of the file\n# chardetect columns_description.csv\n\ncolumns_description \u003d pd.read_csv(\"../data/mock/columns_description.csv\", encoding\u003d\"Windows-1252\")\n\ncolumns_description.head()\n",
      "metadata": {
        "pycharm": {
          "metadata": false,
          "name": "#%%\n",
          "is_executing": false
        }
      }
    },
    {
      "cell_type": "markdown",
      "source": "# Starting the analysis based on the `application_data` dataset\n\n",
      "metadata": {
        "pycharm": {
          "metadata": false,
          "name": "#%% md\n"
        }
      }
    },
    {
      "cell_type": "code",
      "execution_count": 3,
      "outputs": [
        {
          "data": {
            "text/plain": "   SK_ID_CURR  TARGET NAME_CONTRACT_TYPE CODE_GENDER FLAG_OWN_CAR  \\\n0      100002       1         Cash loans           M            N   \n1      100003       0         Cash loans           F            N   \n2      100004       0    Revolving loans           M            Y   \n3      100006       0         Cash loans           F            N   \n4      100007       0         Cash loans           M            N   \n\n  FLAG_OWN_REALTY  CNT_CHILDREN  AMT_INCOME_TOTAL  AMT_CREDIT  AMT_ANNUITY  \\\n0               Y             0          202500.0    406597.5      24700.5   \n1               N             0          270000.0   1293502.5      35698.5   \n2               Y             0           67500.0    135000.0       6750.0   \n3               Y             0          135000.0    312682.5      29686.5   \n4               Y             0          121500.0    513000.0      21865.5   \n\n   ...  FLAG_DOCUMENT_18 FLAG_DOCUMENT_19 FLAG_DOCUMENT_20 FLAG_DOCUMENT_21  \\\n0  ...                 0                0                0                0   \n1  ...                 0                0                0                0   \n2  ...                 0                0                0                0   \n3  ...                 0                0                0                0   \n4  ...                 0                0                0                0   \n\n  AMT_REQ_CREDIT_BUREAU_HOUR AMT_REQ_CREDIT_BUREAU_DAY  \\\n0                        0.0                       0.0   \n1                        0.0                       0.0   \n2                        0.0                       0.0   \n3                        NaN                       NaN   \n4                        0.0                       0.0   \n\n   AMT_REQ_CREDIT_BUREAU_WEEK  AMT_REQ_CREDIT_BUREAU_MON  \\\n0                         0.0                        0.0   \n1                         0.0                        0.0   \n2                         0.0                        0.0   \n3                         NaN                        NaN   \n4                         0.0                        0.0   \n\n   AMT_REQ_CREDIT_BUREAU_QRT  AMT_REQ_CREDIT_BUREAU_YEAR  \n0                        0.0                         1.0  \n1                        0.0                         0.0  \n2                        0.0                         0.0  \n3                        NaN                         NaN  \n4                        0.0                         0.0  \n\n[5 rows x 122 columns]",
            "text/html": "\u003cdiv\u003e\n\u003cstyle scoped\u003e\n    .dataframe tbody tr th:only-of-type {\n        vertical-align: middle;\n    }\n\n    .dataframe tbody tr th {\n        vertical-align: top;\n    }\n\n    .dataframe thead th {\n        text-align: right;\n    }\n\u003c/style\u003e\n\u003ctable border\u003d\"1\" class\u003d\"dataframe\"\u003e\n  \u003cthead\u003e\n    \u003ctr style\u003d\"text-align: right;\"\u003e\n      \u003cth\u003e\u003c/th\u003e\n      \u003cth\u003eSK_ID_CURR\u003c/th\u003e\n      \u003cth\u003eTARGET\u003c/th\u003e\n      \u003cth\u003eNAME_CONTRACT_TYPE\u003c/th\u003e\n      \u003cth\u003eCODE_GENDER\u003c/th\u003e\n      \u003cth\u003eFLAG_OWN_CAR\u003c/th\u003e\n      \u003cth\u003eFLAG_OWN_REALTY\u003c/th\u003e\n      \u003cth\u003eCNT_CHILDREN\u003c/th\u003e\n      \u003cth\u003eAMT_INCOME_TOTAL\u003c/th\u003e\n      \u003cth\u003eAMT_CREDIT\u003c/th\u003e\n      \u003cth\u003eAMT_ANNUITY\u003c/th\u003e\n      \u003cth\u003e...\u003c/th\u003e\n      \u003cth\u003eFLAG_DOCUMENT_18\u003c/th\u003e\n      \u003cth\u003eFLAG_DOCUMENT_19\u003c/th\u003e\n      \u003cth\u003eFLAG_DOCUMENT_20\u003c/th\u003e\n      \u003cth\u003eFLAG_DOCUMENT_21\u003c/th\u003e\n      \u003cth\u003eAMT_REQ_CREDIT_BUREAU_HOUR\u003c/th\u003e\n      \u003cth\u003eAMT_REQ_CREDIT_BUREAU_DAY\u003c/th\u003e\n      \u003cth\u003eAMT_REQ_CREDIT_BUREAU_WEEK\u003c/th\u003e\n      \u003cth\u003eAMT_REQ_CREDIT_BUREAU_MON\u003c/th\u003e\n      \u003cth\u003eAMT_REQ_CREDIT_BUREAU_QRT\u003c/th\u003e\n      \u003cth\u003eAMT_REQ_CREDIT_BUREAU_YEAR\u003c/th\u003e\n    \u003c/tr\u003e\n  \u003c/thead\u003e\n  \u003ctbody\u003e\n    \u003ctr\u003e\n      \u003cth\u003e0\u003c/th\u003e\n      \u003ctd\u003e100002\u003c/td\u003e\n      \u003ctd\u003e1\u003c/td\u003e\n      \u003ctd\u003eCash loans\u003c/td\u003e\n      \u003ctd\u003eM\u003c/td\u003e\n      \u003ctd\u003eN\u003c/td\u003e\n      \u003ctd\u003eY\u003c/td\u003e\n      \u003ctd\u003e0\u003c/td\u003e\n      \u003ctd\u003e202500.0\u003c/td\u003e\n      \u003ctd\u003e406597.5\u003c/td\u003e\n      \u003ctd\u003e24700.5\u003c/td\u003e\n      \u003ctd\u003e...\u003c/td\u003e\n      \u003ctd\u003e0\u003c/td\u003e\n      \u003ctd\u003e0\u003c/td\u003e\n      \u003ctd\u003e0\u003c/td\u003e\n      \u003ctd\u003e0\u003c/td\u003e\n      \u003ctd\u003e0.0\u003c/td\u003e\n      \u003ctd\u003e0.0\u003c/td\u003e\n      \u003ctd\u003e0.0\u003c/td\u003e\n      \u003ctd\u003e0.0\u003c/td\u003e\n      \u003ctd\u003e0.0\u003c/td\u003e\n      \u003ctd\u003e1.0\u003c/td\u003e\n    \u003c/tr\u003e\n    \u003ctr\u003e\n      \u003cth\u003e1\u003c/th\u003e\n      \u003ctd\u003e100003\u003c/td\u003e\n      \u003ctd\u003e0\u003c/td\u003e\n      \u003ctd\u003eCash loans\u003c/td\u003e\n      \u003ctd\u003eF\u003c/td\u003e\n      \u003ctd\u003eN\u003c/td\u003e\n      \u003ctd\u003eN\u003c/td\u003e\n      \u003ctd\u003e0\u003c/td\u003e\n      \u003ctd\u003e270000.0\u003c/td\u003e\n      \u003ctd\u003e1293502.5\u003c/td\u003e\n      \u003ctd\u003e35698.5\u003c/td\u003e\n      \u003ctd\u003e...\u003c/td\u003e\n      \u003ctd\u003e0\u003c/td\u003e\n      \u003ctd\u003e0\u003c/td\u003e\n      \u003ctd\u003e0\u003c/td\u003e\n      \u003ctd\u003e0\u003c/td\u003e\n      \u003ctd\u003e0.0\u003c/td\u003e\n      \u003ctd\u003e0.0\u003c/td\u003e\n      \u003ctd\u003e0.0\u003c/td\u003e\n      \u003ctd\u003e0.0\u003c/td\u003e\n      \u003ctd\u003e0.0\u003c/td\u003e\n      \u003ctd\u003e0.0\u003c/td\u003e\n    \u003c/tr\u003e\n    \u003ctr\u003e\n      \u003cth\u003e2\u003c/th\u003e\n      \u003ctd\u003e100004\u003c/td\u003e\n      \u003ctd\u003e0\u003c/td\u003e\n      \u003ctd\u003eRevolving loans\u003c/td\u003e\n      \u003ctd\u003eM\u003c/td\u003e\n      \u003ctd\u003eY\u003c/td\u003e\n      \u003ctd\u003eY\u003c/td\u003e\n      \u003ctd\u003e0\u003c/td\u003e\n      \u003ctd\u003e67500.0\u003c/td\u003e\n      \u003ctd\u003e135000.0\u003c/td\u003e\n      \u003ctd\u003e6750.0\u003c/td\u003e\n      \u003ctd\u003e...\u003c/td\u003e\n      \u003ctd\u003e0\u003c/td\u003e\n      \u003ctd\u003e0\u003c/td\u003e\n      \u003ctd\u003e0\u003c/td\u003e\n      \u003ctd\u003e0\u003c/td\u003e\n      \u003ctd\u003e0.0\u003c/td\u003e\n      \u003ctd\u003e0.0\u003c/td\u003e\n      \u003ctd\u003e0.0\u003c/td\u003e\n      \u003ctd\u003e0.0\u003c/td\u003e\n      \u003ctd\u003e0.0\u003c/td\u003e\n      \u003ctd\u003e0.0\u003c/td\u003e\n    \u003c/tr\u003e\n    \u003ctr\u003e\n      \u003cth\u003e3\u003c/th\u003e\n      \u003ctd\u003e100006\u003c/td\u003e\n      \u003ctd\u003e0\u003c/td\u003e\n      \u003ctd\u003eCash loans\u003c/td\u003e\n      \u003ctd\u003eF\u003c/td\u003e\n      \u003ctd\u003eN\u003c/td\u003e\n      \u003ctd\u003eY\u003c/td\u003e\n      \u003ctd\u003e0\u003c/td\u003e\n      \u003ctd\u003e135000.0\u003c/td\u003e\n      \u003ctd\u003e312682.5\u003c/td\u003e\n      \u003ctd\u003e29686.5\u003c/td\u003e\n      \u003ctd\u003e...\u003c/td\u003e\n      \u003ctd\u003e0\u003c/td\u003e\n      \u003ctd\u003e0\u003c/td\u003e\n      \u003ctd\u003e0\u003c/td\u003e\n      \u003ctd\u003e0\u003c/td\u003e\n      \u003ctd\u003eNaN\u003c/td\u003e\n      \u003ctd\u003eNaN\u003c/td\u003e\n      \u003ctd\u003eNaN\u003c/td\u003e\n      \u003ctd\u003eNaN\u003c/td\u003e\n      \u003ctd\u003eNaN\u003c/td\u003e\n      \u003ctd\u003eNaN\u003c/td\u003e\n    \u003c/tr\u003e\n    \u003ctr\u003e\n      \u003cth\u003e4\u003c/th\u003e\n      \u003ctd\u003e100007\u003c/td\u003e\n      \u003ctd\u003e0\u003c/td\u003e\n      \u003ctd\u003eCash loans\u003c/td\u003e\n      \u003ctd\u003eM\u003c/td\u003e\n      \u003ctd\u003eN\u003c/td\u003e\n      \u003ctd\u003eY\u003c/td\u003e\n      \u003ctd\u003e0\u003c/td\u003e\n      \u003ctd\u003e121500.0\u003c/td\u003e\n      \u003ctd\u003e513000.0\u003c/td\u003e\n      \u003ctd\u003e21865.5\u003c/td\u003e\n      \u003ctd\u003e...\u003c/td\u003e\n      \u003ctd\u003e0\u003c/td\u003e\n      \u003ctd\u003e0\u003c/td\u003e\n      \u003ctd\u003e0\u003c/td\u003e\n      \u003ctd\u003e0\u003c/td\u003e\n      \u003ctd\u003e0.0\u003c/td\u003e\n      \u003ctd\u003e0.0\u003c/td\u003e\n      \u003ctd\u003e0.0\u003c/td\u003e\n      \u003ctd\u003e0.0\u003c/td\u003e\n      \u003ctd\u003e0.0\u003c/td\u003e\n      \u003ctd\u003e0.0\u003c/td\u003e\n    \u003c/tr\u003e\n  \u003c/tbody\u003e\n\u003c/table\u003e\n\u003cp\u003e5 rows × 122 columns\u003c/p\u003e\n\u003c/div\u003e"
          },
          "metadata": {},
          "output_type": "execute_result",
          "execution_count": 3
        }
      ],
      "source": "application_data \u003d pd.read_csv(\"../data/mock/application_data_100.csv\")\n\napplication_data.head()\n",
      "metadata": {
        "pycharm": {
          "metadata": false,
          "name": "#%%\n",
          "is_executing": false
        }
      }
    },
    {
      "cell_type": "code",
      "execution_count": null,
      "outputs": [],
      "source": "\n\n",
      "metadata": {
        "pycharm": {
          "metadata": false,
          "name": "#%%\n"
        }
      }
    },
    {
      "cell_type": "markdown",
      "source": "# Analysis of the `previous_application` dataset\n",
      "metadata": {
        "pycharm": {
          "metadata": false,
          "name": "#%% md\n"
        }
      }
    },
    {
      "cell_type": "code",
      "execution_count": 4,
      "outputs": [
        {
          "data": {
            "text/plain": "   K_ID_PREV  SK_ID_CURR NAME_CONTRACT_TYPE  AMT_ANNUITY  AMT_APPLICATION  \\\n0    2030495      271877     Consumer loans     1730.430          17145.0   \n1    2802425      108129         Cash loans    25188.615         607500.0   \n2    2523466      122040         Cash loans    15060.735         112500.0   \n3    2819243      176158         Cash loans    47041.335         450000.0   \n4    1784265      202054         Cash loans    31924.395         337500.0   \n\n   AMT_CREDIT  AMT_DOWN_PAYMENT  AMT_GOODS_PRICE WEEKDAY_APPR_PROCESS_START  \\\n0     17145.0               0.0          17145.0                   SATURDAY   \n1    679671.0               NaN         607500.0                   THURSDAY   \n2    136444.5               NaN         112500.0                    TUESDAY   \n3    470790.0               NaN         450000.0                     MONDAY   \n4    404055.0               NaN         337500.0                   THURSDAY   \n\n   HOUR_APPR_PROCESS_START  ... NAME_SELLER_INDUSTRY  CNT_PAYMENT  \\\n0                       15  ...         Connectivity         12.0   \n1                       11  ...                  XNA         36.0   \n2                       11  ...                  XNA         12.0   \n3                        7  ...                  XNA         12.0   \n4                        9  ...                  XNA         24.0   \n\n   NAME_YIELD_GROUP       PRODUCT_COMBINATION  DAYS_FIRST_DRAWING  \\\n0            middle  POS mobile with interest            365243.0   \n1        low_action          Cash X-Sell: low            365243.0   \n2              high         Cash X-Sell: high            365243.0   \n3            middle       Cash X-Sell: middle            365243.0   \n4              high         Cash Street: high                 NaN   \n\n  DAYS_FIRST_DUE DAYS_LAST_DUE_1ST_VERSION  DAYS_LAST_DUE DAYS_TERMINATION  \\\n0          -42.0                     300.0          -42.0            -37.0   \n1         -134.0                     916.0       365243.0         365243.0   \n2         -271.0                      59.0       365243.0         365243.0   \n3         -482.0                    -152.0         -182.0           -177.0   \n4            NaN                       NaN            NaN              NaN   \n\n  NFLAG_INSURED_ON_APPROVAL  \n0                       0.0  \n1                       1.0  \n2                       1.0  \n3                       1.0  \n4                       NaN  \n\n[5 rows x 37 columns]",
            "text/html": "\u003cdiv\u003e\n\u003cstyle scoped\u003e\n    .dataframe tbody tr th:only-of-type {\n        vertical-align: middle;\n    }\n\n    .dataframe tbody tr th {\n        vertical-align: top;\n    }\n\n    .dataframe thead th {\n        text-align: right;\n    }\n\u003c/style\u003e\n\u003ctable border\u003d\"1\" class\u003d\"dataframe\"\u003e\n  \u003cthead\u003e\n    \u003ctr style\u003d\"text-align: right;\"\u003e\n      \u003cth\u003e\u003c/th\u003e\n      \u003cth\u003eK_ID_PREV\u003c/th\u003e\n      \u003cth\u003eSK_ID_CURR\u003c/th\u003e\n      \u003cth\u003eNAME_CONTRACT_TYPE\u003c/th\u003e\n      \u003cth\u003eAMT_ANNUITY\u003c/th\u003e\n      \u003cth\u003eAMT_APPLICATION\u003c/th\u003e\n      \u003cth\u003eAMT_CREDIT\u003c/th\u003e\n      \u003cth\u003eAMT_DOWN_PAYMENT\u003c/th\u003e\n      \u003cth\u003eAMT_GOODS_PRICE\u003c/th\u003e\n      \u003cth\u003eWEEKDAY_APPR_PROCESS_START\u003c/th\u003e\n      \u003cth\u003eHOUR_APPR_PROCESS_START\u003c/th\u003e\n      \u003cth\u003e...\u003c/th\u003e\n      \u003cth\u003eNAME_SELLER_INDUSTRY\u003c/th\u003e\n      \u003cth\u003eCNT_PAYMENT\u003c/th\u003e\n      \u003cth\u003eNAME_YIELD_GROUP\u003c/th\u003e\n      \u003cth\u003ePRODUCT_COMBINATION\u003c/th\u003e\n      \u003cth\u003eDAYS_FIRST_DRAWING\u003c/th\u003e\n      \u003cth\u003eDAYS_FIRST_DUE\u003c/th\u003e\n      \u003cth\u003eDAYS_LAST_DUE_1ST_VERSION\u003c/th\u003e\n      \u003cth\u003eDAYS_LAST_DUE\u003c/th\u003e\n      \u003cth\u003eDAYS_TERMINATION\u003c/th\u003e\n      \u003cth\u003eNFLAG_INSURED_ON_APPROVAL\u003c/th\u003e\n    \u003c/tr\u003e\n  \u003c/thead\u003e\n  \u003ctbody\u003e\n    \u003ctr\u003e\n      \u003cth\u003e0\u003c/th\u003e\n      \u003ctd\u003e2030495\u003c/td\u003e\n      \u003ctd\u003e271877\u003c/td\u003e\n      \u003ctd\u003eConsumer loans\u003c/td\u003e\n      \u003ctd\u003e1730.430\u003c/td\u003e\n      \u003ctd\u003e17145.0\u003c/td\u003e\n      \u003ctd\u003e17145.0\u003c/td\u003e\n      \u003ctd\u003e0.0\u003c/td\u003e\n      \u003ctd\u003e17145.0\u003c/td\u003e\n      \u003ctd\u003eSATURDAY\u003c/td\u003e\n      \u003ctd\u003e15\u003c/td\u003e\n      \u003ctd\u003e...\u003c/td\u003e\n      \u003ctd\u003eConnectivity\u003c/td\u003e\n      \u003ctd\u003e12.0\u003c/td\u003e\n      \u003ctd\u003emiddle\u003c/td\u003e\n      \u003ctd\u003ePOS mobile with interest\u003c/td\u003e\n      \u003ctd\u003e365243.0\u003c/td\u003e\n      \u003ctd\u003e-42.0\u003c/td\u003e\n      \u003ctd\u003e300.0\u003c/td\u003e\n      \u003ctd\u003e-42.0\u003c/td\u003e\n      \u003ctd\u003e-37.0\u003c/td\u003e\n      \u003ctd\u003e0.0\u003c/td\u003e\n    \u003c/tr\u003e\n    \u003ctr\u003e\n      \u003cth\u003e1\u003c/th\u003e\n      \u003ctd\u003e2802425\u003c/td\u003e\n      \u003ctd\u003e108129\u003c/td\u003e\n      \u003ctd\u003eCash loans\u003c/td\u003e\n      \u003ctd\u003e25188.615\u003c/td\u003e\n      \u003ctd\u003e607500.0\u003c/td\u003e\n      \u003ctd\u003e679671.0\u003c/td\u003e\n      \u003ctd\u003eNaN\u003c/td\u003e\n      \u003ctd\u003e607500.0\u003c/td\u003e\n      \u003ctd\u003eTHURSDAY\u003c/td\u003e\n      \u003ctd\u003e11\u003c/td\u003e\n      \u003ctd\u003e...\u003c/td\u003e\n      \u003ctd\u003eXNA\u003c/td\u003e\n      \u003ctd\u003e36.0\u003c/td\u003e\n      \u003ctd\u003elow_action\u003c/td\u003e\n      \u003ctd\u003eCash X-Sell: low\u003c/td\u003e\n      \u003ctd\u003e365243.0\u003c/td\u003e\n      \u003ctd\u003e-134.0\u003c/td\u003e\n      \u003ctd\u003e916.0\u003c/td\u003e\n      \u003ctd\u003e365243.0\u003c/td\u003e\n      \u003ctd\u003e365243.0\u003c/td\u003e\n      \u003ctd\u003e1.0\u003c/td\u003e\n    \u003c/tr\u003e\n    \u003ctr\u003e\n      \u003cth\u003e2\u003c/th\u003e\n      \u003ctd\u003e2523466\u003c/td\u003e\n      \u003ctd\u003e122040\u003c/td\u003e\n      \u003ctd\u003eCash loans\u003c/td\u003e\n      \u003ctd\u003e15060.735\u003c/td\u003e\n      \u003ctd\u003e112500.0\u003c/td\u003e\n      \u003ctd\u003e136444.5\u003c/td\u003e\n      \u003ctd\u003eNaN\u003c/td\u003e\n      \u003ctd\u003e112500.0\u003c/td\u003e\n      \u003ctd\u003eTUESDAY\u003c/td\u003e\n      \u003ctd\u003e11\u003c/td\u003e\n      \u003ctd\u003e...\u003c/td\u003e\n      \u003ctd\u003eXNA\u003c/td\u003e\n      \u003ctd\u003e12.0\u003c/td\u003e\n      \u003ctd\u003ehigh\u003c/td\u003e\n      \u003ctd\u003eCash X-Sell: high\u003c/td\u003e\n      \u003ctd\u003e365243.0\u003c/td\u003e\n      \u003ctd\u003e-271.0\u003c/td\u003e\n      \u003ctd\u003e59.0\u003c/td\u003e\n      \u003ctd\u003e365243.0\u003c/td\u003e\n      \u003ctd\u003e365243.0\u003c/td\u003e\n      \u003ctd\u003e1.0\u003c/td\u003e\n    \u003c/tr\u003e\n    \u003ctr\u003e\n      \u003cth\u003e3\u003c/th\u003e\n      \u003ctd\u003e2819243\u003c/td\u003e\n      \u003ctd\u003e176158\u003c/td\u003e\n      \u003ctd\u003eCash loans\u003c/td\u003e\n      \u003ctd\u003e47041.335\u003c/td\u003e\n      \u003ctd\u003e450000.0\u003c/td\u003e\n      \u003ctd\u003e470790.0\u003c/td\u003e\n      \u003ctd\u003eNaN\u003c/td\u003e\n      \u003ctd\u003e450000.0\u003c/td\u003e\n      \u003ctd\u003eMONDAY\u003c/td\u003e\n      \u003ctd\u003e7\u003c/td\u003e\n      \u003ctd\u003e...\u003c/td\u003e\n      \u003ctd\u003eXNA\u003c/td\u003e\n      \u003ctd\u003e12.0\u003c/td\u003e\n      \u003ctd\u003emiddle\u003c/td\u003e\n      \u003ctd\u003eCash X-Sell: middle\u003c/td\u003e\n      \u003ctd\u003e365243.0\u003c/td\u003e\n      \u003ctd\u003e-482.0\u003c/td\u003e\n      \u003ctd\u003e-152.0\u003c/td\u003e\n      \u003ctd\u003e-182.0\u003c/td\u003e\n      \u003ctd\u003e-177.0\u003c/td\u003e\n      \u003ctd\u003e1.0\u003c/td\u003e\n    \u003c/tr\u003e\n    \u003ctr\u003e\n      \u003cth\u003e4\u003c/th\u003e\n      \u003ctd\u003e1784265\u003c/td\u003e\n      \u003ctd\u003e202054\u003c/td\u003e\n      \u003ctd\u003eCash loans\u003c/td\u003e\n      \u003ctd\u003e31924.395\u003c/td\u003e\n      \u003ctd\u003e337500.0\u003c/td\u003e\n      \u003ctd\u003e404055.0\u003c/td\u003e\n      \u003ctd\u003eNaN\u003c/td\u003e\n      \u003ctd\u003e337500.0\u003c/td\u003e\n      \u003ctd\u003eTHURSDAY\u003c/td\u003e\n      \u003ctd\u003e9\u003c/td\u003e\n      \u003ctd\u003e...\u003c/td\u003e\n      \u003ctd\u003eXNA\u003c/td\u003e\n      \u003ctd\u003e24.0\u003c/td\u003e\n      \u003ctd\u003ehigh\u003c/td\u003e\n      \u003ctd\u003eCash Street: high\u003c/td\u003e\n      \u003ctd\u003eNaN\u003c/td\u003e\n      \u003ctd\u003eNaN\u003c/td\u003e\n      \u003ctd\u003eNaN\u003c/td\u003e\n      \u003ctd\u003eNaN\u003c/td\u003e\n      \u003ctd\u003eNaN\u003c/td\u003e\n      \u003ctd\u003eNaN\u003c/td\u003e\n    \u003c/tr\u003e\n  \u003c/tbody\u003e\n\u003c/table\u003e\n\u003cp\u003e5 rows × 37 columns\u003c/p\u003e\n\u003c/div\u003e"
          },
          "metadata": {},
          "output_type": "execute_result",
          "execution_count": 4
        }
      ],
      "source": "\nprevious_application \u003d pd.read_csv(\"../data/mock/previous_application_100.csv\")\n\nprevious_application.head()\n\n",
      "metadata": {
        "pycharm": {
          "metadata": false,
          "name": "#%%\n",
          "is_executing": false
        }
      }
    },
    {
      "cell_type": "markdown",
      "source": "# Find common columns in the CSVs\n",
      "metadata": {
        "pycharm": {
          "metadata": false,
          "name": "#%% md\n"
        }
      }
    },
    {
      "cell_type": "code",
      "execution_count": 5,
      "outputs": [],
      "source": "\nset1 \u003d set(application_data.columns.to_list())\nset2 \u003d set(previous_application.columns.to_list())\n",
      "metadata": {
        "pycharm": {
          "metadata": false,
          "name": "#%%\n",
          "is_executing": false
        }
      }
    },
    {
      "cell_type": "code",
      "execution_count": 6,
      "outputs": [
        {
          "data": {
            "text/plain": "{\u0027AMT_ANNUITY\u0027,\n \u0027AMT_CREDIT\u0027,\n \u0027AMT_GOODS_PRICE\u0027,\n \u0027HOUR_APPR_PROCESS_START\u0027,\n \u0027NAME_CONTRACT_TYPE\u0027,\n \u0027NAME_TYPE_SUITE\u0027,\n \u0027SK_ID_CURR\u0027,\n \u0027WEEKDAY_APPR_PROCESS_START\u0027}"
          },
          "metadata": {},
          "output_type": "execute_result",
          "execution_count": 6
        }
      ],
      "source": "\nset1.intersection(set2)\n\n#\n",
      "metadata": {
        "pycharm": {
          "metadata": false,
          "name": "#%%\n",
          "is_executing": false
        }
      }
    },
    {
      "cell_type": "markdown",
      "source": "\n# Now we try to find any common elements based on the common column of `SK_ID_CURR`\n",
      "metadata": {
        "pycharm": {
          "metadata": false,
          "name": "#%% md\n"
        }
      }
    },
    {
      "cell_type": "code",
      "execution_count": 7,
      "outputs": [
        {
          "data": {
            "text/plain": "[100002,\n 100003,\n 100004,\n 100006,\n 100007,\n 100008,\n 100009,\n 100010,\n 100011,\n 100012,\n 100014,\n 100015,\n 100016,\n 100017,\n 100018,\n 100019,\n 100020,\n 100021,\n 100022,\n 100023,\n 100024,\n 100025,\n 100026,\n 100027,\n 100029,\n 100030,\n 100031,\n 100032,\n 100033,\n 100034,\n 100035,\n 100036,\n 100037,\n 100039,\n 100040,\n 100041,\n 100043,\n 100044,\n 100045,\n 100046,\n 100047,\n 100048,\n 100049,\n 100050,\n 100051,\n 100052,\n 100053,\n 100054,\n 100055,\n 100056,\n 100058,\n 100059,\n 100060,\n 100061,\n 100062,\n 100063,\n 100064,\n 100068,\n 100069,\n 100070,\n 100071,\n 100072,\n 100073,\n 100075,\n 100076,\n 100077,\n 100078,\n 100079,\n 100080,\n 100081,\n 100082,\n 100083,\n 100084,\n 100085,\n 100086,\n 100087,\n 100088,\n 100089,\n 100093,\n 100094,\n 100095,\n 100096,\n 100097,\n 100098,\n 100099,\n 100100,\n 100101,\n 100102,\n 100103,\n 100104,\n 100105,\n 100108,\n 100110,\n 100111,\n 100112,\n 100113,\n 100114,\n 100115,\n 100116]"
          },
          "metadata": {},
          "output_type": "execute_result",
          "execution_count": 7
        }
      ],
      "source": "\nlist(application_data[[\u0027SK_ID_CURR\u0027]].to_dict()[\u0027SK_ID_CURR\u0027].values())\n",
      "metadata": {
        "pycharm": {
          "metadata": false,
          "name": "#%%\n",
          "is_executing": false
        }
      }
    },
    {
      "cell_type": "markdown",
      "source": "# Merge two dataframes based on the `SK_ID_CURR` column\n",
      "metadata": {
        "pycharm": {
          "metadata": false
        }
      }
    },
    {
      "cell_type": "code",
      "execution_count": 8,
      "outputs": [
        {
          "data": {
            "text/plain": "Empty DataFrame\nColumns: [SK_ID_CURR, TARGET, NAME_CONTRACT_TYPE_x, CODE_GENDER, FLAG_OWN_CAR, FLAG_OWN_REALTY, CNT_CHILDREN, AMT_INCOME_TOTAL, AMT_CREDIT_x, AMT_ANNUITY_x, AMT_GOODS_PRICE_x, NAME_TYPE_SUITE_x, NAME_INCOME_TYPE, NAME_EDUCATION_TYPE, NAME_FAMILY_STATUS, NAME_HOUSING_TYPE, REGION_POPULATION_RELATIVE, DAYS_BIRTH, DAYS_EMPLOYED, DAYS_REGISTRATION, DAYS_ID_PUBLISH, OWN_CAR_AGE, FLAG_MOBIL, FLAG_EMP_PHONE, FLAG_WORK_PHONE, FLAG_CONT_MOBILE, FLAG_PHONE, FLAG_EMAIL, OCCUPATION_TYPE, CNT_FAM_MEMBERS, REGION_RATING_CLIENT, REGION_RATING_CLIENT_W_CITY, WEEKDAY_APPR_PROCESS_START_x, HOUR_APPR_PROCESS_START_x, REG_REGION_NOT_LIVE_REGION, REG_REGION_NOT_WORK_REGION, LIVE_REGION_NOT_WORK_REGION, REG_CITY_NOT_LIVE_CITY, REG_CITY_NOT_WORK_CITY, LIVE_CITY_NOT_WORK_CITY, ORGANIZATION_TYPE, EXT_SOURCE_1, EXT_SOURCE_2, EXT_SOURCE_3, APARTMENTS_AVG, BASEMENTAREA_AVG, YEARS_BEGINEXPLUATATION_AVG, YEARS_BUILD_AVG, COMMONAREA_AVG, ELEVATORS_AVG, ENTRANCES_AVG, FLOORSMAX_AVG, FLOORSMIN_AVG, LANDAREA_AVG, LIVINGAPARTMENTS_AVG, LIVINGAREA_AVG, NONLIVINGAPARTMENTS_AVG, NONLIVINGAREA_AVG, APARTMENTS_MODE, BASEMENTAREA_MODE, YEARS_BEGINEXPLUATATION_MODE, YEARS_BUILD_MODE, COMMONAREA_MODE, ELEVATORS_MODE, ENTRANCES_MODE, FLOORSMAX_MODE, FLOORSMIN_MODE, LANDAREA_MODE, LIVINGAPARTMENTS_MODE, LIVINGAREA_MODE, NONLIVINGAPARTMENTS_MODE, NONLIVINGAREA_MODE, APARTMENTS_MEDI, BASEMENTAREA_MEDI, YEARS_BEGINEXPLUATATION_MEDI, YEARS_BUILD_MEDI, COMMONAREA_MEDI, ELEVATORS_MEDI, ENTRANCES_MEDI, FLOORSMAX_MEDI, FLOORSMIN_MEDI, LANDAREA_MEDI, LIVINGAPARTMENTS_MEDI, LIVINGAREA_MEDI, NONLIVINGAPARTMENTS_MEDI, NONLIVINGAREA_MEDI, FONDKAPREMONT_MODE, HOUSETYPE_MODE, TOTALAREA_MODE, WALLSMATERIAL_MODE, EMERGENCYSTATE_MODE, OBS_30_CNT_SOCIAL_CIRCLE, DEF_30_CNT_SOCIAL_CIRCLE, OBS_60_CNT_SOCIAL_CIRCLE, DEF_60_CNT_SOCIAL_CIRCLE, DAYS_LAST_PHONE_CHANGE, FLAG_DOCUMENT_2, FLAG_DOCUMENT_3, FLAG_DOCUMENT_4, FLAG_DOCUMENT_5, ...]\nIndex: []\n\n[0 rows x 158 columns]",
            "text/html": "\u003cdiv\u003e\n\u003cstyle scoped\u003e\n    .dataframe tbody tr th:only-of-type {\n        vertical-align: middle;\n    }\n\n    .dataframe tbody tr th {\n        vertical-align: top;\n    }\n\n    .dataframe thead th {\n        text-align: right;\n    }\n\u003c/style\u003e\n\u003ctable border\u003d\"1\" class\u003d\"dataframe\"\u003e\n  \u003cthead\u003e\n    \u003ctr style\u003d\"text-align: right;\"\u003e\n      \u003cth\u003e\u003c/th\u003e\n      \u003cth\u003eSK_ID_CURR\u003c/th\u003e\n      \u003cth\u003eTARGET\u003c/th\u003e\n      \u003cth\u003eNAME_CONTRACT_TYPE_x\u003c/th\u003e\n      \u003cth\u003eCODE_GENDER\u003c/th\u003e\n      \u003cth\u003eFLAG_OWN_CAR\u003c/th\u003e\n      \u003cth\u003eFLAG_OWN_REALTY\u003c/th\u003e\n      \u003cth\u003eCNT_CHILDREN\u003c/th\u003e\n      \u003cth\u003eAMT_INCOME_TOTAL\u003c/th\u003e\n      \u003cth\u003eAMT_CREDIT_x\u003c/th\u003e\n      \u003cth\u003eAMT_ANNUITY_x\u003c/th\u003e\n      \u003cth\u003e...\u003c/th\u003e\n      \u003cth\u003eNAME_SELLER_INDUSTRY\u003c/th\u003e\n      \u003cth\u003eCNT_PAYMENT\u003c/th\u003e\n      \u003cth\u003eNAME_YIELD_GROUP\u003c/th\u003e\n      \u003cth\u003ePRODUCT_COMBINATION\u003c/th\u003e\n      \u003cth\u003eDAYS_FIRST_DRAWING\u003c/th\u003e\n      \u003cth\u003eDAYS_FIRST_DUE\u003c/th\u003e\n      \u003cth\u003eDAYS_LAST_DUE_1ST_VERSION\u003c/th\u003e\n      \u003cth\u003eDAYS_LAST_DUE\u003c/th\u003e\n      \u003cth\u003eDAYS_TERMINATION\u003c/th\u003e\n      \u003cth\u003eNFLAG_INSURED_ON_APPROVAL\u003c/th\u003e\n    \u003c/tr\u003e\n  \u003c/thead\u003e\n  \u003ctbody\u003e\n  \u003c/tbody\u003e\n\u003c/table\u003e\n\u003cp\u003e0 rows × 158 columns\u003c/p\u003e\n\u003c/div\u003e"
          },
          "metadata": {},
          "output_type": "execute_result",
          "execution_count": 8
        }
      ],
      "source": "\npd.merge(application_data, previous_application, on\u003d\"SK_ID_CURR\")",
      "metadata": {
        "pycharm": {
          "metadata": false,
          "name": "#%%\n",
          "is_executing": false
        }
      }
    }
  ],
  "metadata": {
    "language_info": {
      "codemirror_mode": {
        "name": "ipython",
        "version": 2
      },
      "file_extension": ".py",
      "mimetype": "text/x-python",
      "name": "python",
      "nbconvert_exporter": "python",
      "pygments_lexer": "ipython2",
      "version": "2.7.6"
    },
    "kernelspec": {
      "name": "python3",
      "language": "python",
      "display_name": "Python 3"
    },
    "stem_cell": {
      "cell_type": "raw",
      "source": "",
      "metadata": {
        "pycharm": {
          "metadata": false
        }
      }
    }
  },
  "nbformat": 4,
  "nbformat_minor": 0
}